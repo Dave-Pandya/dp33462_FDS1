{
 "cells": [
  {
   "cell_type": "markdown",
   "id": "91c096a6-0c2d-4a0f-8fad-33dd0005c448",
   "metadata": {},
   "source": [
    "### Homework on Pandas Basics\n",
    "\n",
    "---\n",
    "\n",
    "#### Series Exercises:\n",
    "\n",
    "1. **Create a Series:**\n",
    "   - Create a Series named `fruits` with the data: 'apple', 'banana', 'cherry', 'date', and assign it an index of 'a', 'b', 'c', 'd' respectively.\n",
    "   - Print the Series.\n",
    "   - Print the `Index` of the series.\n",
    "   \n",
    "2. **Accessing Elements:**\n",
    "   - Print the second  (\"b\") element of the `fruits` Series.\n",
    "\n",
    "3. **Series Operations:**\n",
    "   - Create a Series with the squares of the numbers 1 through 5. \n",
    "   - Add 10 to each item in the series (hint: there a *method* to this madness).\n",
    "\n",
    "---"
   ]
  },
  {
   "cell_type": "code",
   "execution_count": 1,
   "id": "1e2e2868-7899-497d-b259-7a342d3bae5b",
   "metadata": {
    "tags": []
   },
   "outputs": [],
   "source": [
    "import pandas as pd"
   ]
  },
  {
   "cell_type": "markdown",
   "id": "6c500ac3-3cc4-432e-a86e-d58112a5a8f6",
   "metadata": {},
   "source": [
    "1. Create a Series;"
   ]
  },
  {
   "cell_type": "code",
   "execution_count": 2,
   "id": "0973347d-d41b-48f0-8849-6119d9c55e3b",
   "metadata": {
    "tags": []
   },
   "outputs": [
    {
     "data": {
      "text/plain": [
       "apple     a\n",
       "banana    b\n",
       "cherry    c\n",
       "date      d\n",
       "dtype: object"
      ]
     },
     "execution_count": 2,
     "metadata": {},
     "output_type": "execute_result"
    }
   ],
   "source": [
    "fruits = {'apple' : 'a',\n",
    "          'banana' : 'b',\n",
    "          'cherry' : 'c',\n",
    "          'date' : 'd'}\n",
    "\n",
    "fruits_s = pd.Series(fruits)\n",
    "fruits_s"
   ]
  },
  {
   "cell_type": "code",
   "execution_count": 3,
   "id": "43efb65c-eff6-44b9-b37a-245ed92fd169",
   "metadata": {
    "tags": []
   },
   "outputs": [
    {
     "data": {
      "text/plain": [
       "Index(['apple', 'banana', 'cherry', 'date'], dtype='object')"
      ]
     },
     "execution_count": 3,
     "metadata": {},
     "output_type": "execute_result"
    }
   ],
   "source": [
    "fruits_i = pd.Index(fruits)\n",
    "fruits_i"
   ]
  },
  {
   "cell_type": "markdown",
   "id": "71379ecf-4692-4ab7-889d-3d7524642832",
   "metadata": {},
   "source": [
    "2. Accessing Elements: "
   ]
  },
  {
   "cell_type": "code",
   "execution_count": 4,
   "id": "8a8cc0f7-8836-47ff-8c29-d42553e1fe79",
   "metadata": {
    "tags": []
   },
   "outputs": [
    {
     "name": "stdout",
     "output_type": "stream",
     "text": [
      "b\n"
     ]
    }
   ],
   "source": [
    "print(fruits_s[1])"
   ]
  },
  {
   "cell_type": "markdown",
   "id": "846be4cb-f16f-4cac-ba7f-8bc67b5fcf09",
   "metadata": {},
   "source": [
    "3. Series Operations: "
   ]
  },
  {
   "cell_type": "code",
   "execution_count": 5,
   "id": "18ffda5d-ce0d-43ea-9732-8d01e3304010",
   "metadata": {
    "tags": []
   },
   "outputs": [],
   "source": [
    "num = pd.Series([1, 2, 3, 4, 5])\n",
    "\n",
    "sqa = []"
   ]
  },
  {
   "cell_type": "code",
   "execution_count": 6,
   "id": "c5f2fcee-7515-4b0d-a91d-cde41e05aaba",
   "metadata": {},
   "outputs": [],
   "source": [
    "for i in num:\n",
    "    sqa_2_10 = i ** 2 + 10\n",
    "    \n",
    "    sqa.append(sqa_2_10)"
   ]
  },
  {
   "cell_type": "code",
   "execution_count": 7,
   "id": "834ebccd-a510-464c-aee6-9860f5583fd0",
   "metadata": {
    "tags": []
   },
   "outputs": [],
   "source": [
    "sqa_s = pd.Series(sqa)"
   ]
  },
  {
   "cell_type": "code",
   "execution_count": 8,
   "id": "71bef48b-19c8-4e46-bf99-7067922fdcc6",
   "metadata": {
    "tags": []
   },
   "outputs": [
    {
     "data": {
      "text/plain": [
       "0    11\n",
       "1    14\n",
       "2    19\n",
       "3    26\n",
       "4    35\n",
       "dtype: int64"
      ]
     },
     "execution_count": 8,
     "metadata": {},
     "output_type": "execute_result"
    }
   ],
   "source": [
    "sqa_s"
   ]
  },
  {
   "cell_type": "markdown",
   "id": "a7ee64f0-bd0f-4ea2-9cc8-b08a7e245e7e",
   "metadata": {},
   "source": [
    "---"
   ]
  },
  {
   "cell_type": "markdown",
   "id": "8ea7ac33-b9e1-46c4-ada4-21fc17c50157",
   "metadata": {},
   "source": [
    "#### DataFrame Exercises:\n",
    "\n",
    "1. **Create a DataFrame:**\n",
    "   - Create a DataFrame named `students` with the columns: 'Name', 'Age', 'Grade'.\n",
    "   - Populate it with data for three fictional students.\n",
    "\n",
    "2. **Accessing Data:**\n",
    "   - Print the `Name` column of the `students` DataFrame.\n",
    "   \n",
    "4. **DataFrame Operations:**\n",
    "   \n",
    "   - Add a new column to the `students` DataFrame named `Graduated`, which should be `True` if the student's grade is 'A' and `False` otherwise.\n",
    "   - Print the updated DataFrame.\n",
    "   \n",
    "5. **Maths:**\n",
    "   \n",
    "   - Calculate and print the average age of the students.\n",
    "   \n",
    "6. **Sorting:**\n",
    "   - Sort the `students` DataFrame based on the `Age` column in descending order and print it.\n",
    "\n",
    "7. **Tidy Data**.\n",
    "   - Re-make the cognitive health data frame from class so it is \"tidy\", with each column as variable and each row an observation.\n",
    "   - Compute the mean and standard deviation of all variables.\n",
    "   - Compute the mean and standard error for the happiness variable (there might even be a method for computing standard error...)."
   ]
  },
  {
   "cell_type": "markdown",
   "id": "24aa0b07-6e63-439b-82ec-3e0a66d411ea",
   "metadata": {},
   "source": [
    "1. Create a DataFrame"
   ]
  },
  {
   "cell_type": "code",
   "execution_count": 9,
   "id": "a548f1b2-ff2e-47f0-9cc0-e7c4b37c91f3",
   "metadata": {
    "tags": []
   },
   "outputs": [
    {
     "data": {
      "text/html": [
       "<div>\n",
       "<style scoped>\n",
       "    .dataframe tbody tr th:only-of-type {\n",
       "        vertical-align: middle;\n",
       "    }\n",
       "\n",
       "    .dataframe tbody tr th {\n",
       "        vertical-align: top;\n",
       "    }\n",
       "\n",
       "    .dataframe thead th {\n",
       "        text-align: right;\n",
       "    }\n",
       "</style>\n",
       "<table border=\"1\" class=\"dataframe\">\n",
       "  <thead>\n",
       "    <tr style=\"text-align: right;\">\n",
       "      <th></th>\n",
       "      <th>Name</th>\n",
       "      <th>Age</th>\n",
       "      <th>Grade</th>\n",
       "    </tr>\n",
       "  </thead>\n",
       "  <tbody>\n",
       "    <tr>\n",
       "      <th>0</th>\n",
       "      <td>Joe</td>\n",
       "      <td>20</td>\n",
       "      <td>B</td>\n",
       "    </tr>\n",
       "    <tr>\n",
       "      <th>1</th>\n",
       "      <td>Bill</td>\n",
       "      <td>21</td>\n",
       "      <td>A</td>\n",
       "    </tr>\n",
       "    <tr>\n",
       "      <th>2</th>\n",
       "      <td>Mike</td>\n",
       "      <td>18</td>\n",
       "      <td>C</td>\n",
       "    </tr>\n",
       "  </tbody>\n",
       "</table>\n",
       "</div>"
      ],
      "text/plain": [
       "   Name  Age Grade\n",
       "0   Joe   20     B\n",
       "1  Bill   21     A\n",
       "2  Mike   18     C"
      ]
     },
     "execution_count": 9,
     "metadata": {},
     "output_type": "execute_result"
    }
   ],
   "source": [
    "student_data = [\n",
    "    [\"Joe\", 20, 'B'],\n",
    "    [\"Bill\", 21, 'A'],\n",
    "    [\"Mike\", 18, 'C']\n",
    "]\n",
    "\n",
    "columns = [\"Name\", \"Age\", \"Grade\"]\n",
    "\n",
    "student = pd.DataFrame(student_data, columns=columns)\n",
    "\n",
    "student"
   ]
  },
  {
   "cell_type": "markdown",
   "id": "88c9775d-61cc-4f0d-949e-b01774a95dad",
   "metadata": {},
   "source": [
    "2. Accessing Data"
   ]
  },
  {
   "cell_type": "code",
   "execution_count": 10,
   "id": "492eacb3-aaea-4d1c-bb89-6557a5f31de0",
   "metadata": {
    "tags": []
   },
   "outputs": [
    {
     "data": {
      "text/plain": [
       "0     Joe\n",
       "1    Bill\n",
       "2    Mike\n",
       "Name: Name, dtype: object"
      ]
     },
     "execution_count": 10,
     "metadata": {},
     "output_type": "execute_result"
    }
   ],
   "source": [
    "student[\"Name\"]"
   ]
  },
  {
   "cell_type": "markdown",
   "id": "f0c2626d-d14a-4fc0-bed9-56e21cf8ada6",
   "metadata": {},
   "source": [
    "3. DataFrame operations"
   ]
  },
  {
   "cell_type": "code",
   "execution_count": 11,
   "id": "52ed6bff-9f9d-46ea-83d4-2e205ace0a42",
   "metadata": {
    "tags": []
   },
   "outputs": [
    {
     "data": {
      "text/html": [
       "<div>\n",
       "<style scoped>\n",
       "    .dataframe tbody tr th:only-of-type {\n",
       "        vertical-align: middle;\n",
       "    }\n",
       "\n",
       "    .dataframe tbody tr th {\n",
       "        vertical-align: top;\n",
       "    }\n",
       "\n",
       "    .dataframe thead th {\n",
       "        text-align: right;\n",
       "    }\n",
       "</style>\n",
       "<table border=\"1\" class=\"dataframe\">\n",
       "  <thead>\n",
       "    <tr style=\"text-align: right;\">\n",
       "      <th></th>\n",
       "      <th>Name</th>\n",
       "      <th>Age</th>\n",
       "      <th>Grade</th>\n",
       "      <th>Graduated</th>\n",
       "    </tr>\n",
       "  </thead>\n",
       "  <tbody>\n",
       "    <tr>\n",
       "      <th>0</th>\n",
       "      <td>Joe</td>\n",
       "      <td>20</td>\n",
       "      <td>B</td>\n",
       "      <td>False</td>\n",
       "    </tr>\n",
       "    <tr>\n",
       "      <th>1</th>\n",
       "      <td>Bill</td>\n",
       "      <td>21</td>\n",
       "      <td>A</td>\n",
       "      <td>True</td>\n",
       "    </tr>\n",
       "    <tr>\n",
       "      <th>2</th>\n",
       "      <td>Mike</td>\n",
       "      <td>18</td>\n",
       "      <td>C</td>\n",
       "      <td>False</td>\n",
       "    </tr>\n",
       "  </tbody>\n",
       "</table>\n",
       "</div>"
      ],
      "text/plain": [
       "   Name  Age Grade  Graduated\n",
       "0   Joe   20     B      False\n",
       "1  Bill   21     A       True\n",
       "2  Mike   18     C      False"
      ]
     },
     "execution_count": 11,
     "metadata": {},
     "output_type": "execute_result"
    }
   ],
   "source": [
    "student[\"Graduated\"] = student[\"Grade\"] == 'A'\n",
    "\n",
    "student"
   ]
  },
  {
   "cell_type": "markdown",
   "id": "a09093ec-5d00-4128-9b11-63a8704fb7ac",
   "metadata": {},
   "source": [
    "4. Maths"
   ]
  },
  {
   "cell_type": "code",
   "execution_count": 12,
   "id": "f1e02c58-32d1-4551-a3f8-42ce8c54eb9d",
   "metadata": {
    "tags": []
   },
   "outputs": [
    {
     "data": {
      "text/plain": [
       "19.666666666666668"
      ]
     },
     "execution_count": 12,
     "metadata": {},
     "output_type": "execute_result"
    }
   ],
   "source": [
    "student[\"Age\"].mean()"
   ]
  },
  {
   "cell_type": "markdown",
   "id": "c03756e5-bb63-4a47-bd2b-cab4295bdedf",
   "metadata": {},
   "source": [
    "5. Sorting"
   ]
  },
  {
   "cell_type": "code",
   "execution_count": 13,
   "id": "ba706e41-a855-4e33-be6b-b910e8429cdc",
   "metadata": {
    "tags": []
   },
   "outputs": [
    {
     "data": {
      "text/html": [
       "<div>\n",
       "<style scoped>\n",
       "    .dataframe tbody tr th:only-of-type {\n",
       "        vertical-align: middle;\n",
       "    }\n",
       "\n",
       "    .dataframe tbody tr th {\n",
       "        vertical-align: top;\n",
       "    }\n",
       "\n",
       "    .dataframe thead th {\n",
       "        text-align: right;\n",
       "    }\n",
       "</style>\n",
       "<table border=\"1\" class=\"dataframe\">\n",
       "  <thead>\n",
       "    <tr style=\"text-align: right;\">\n",
       "      <th></th>\n",
       "      <th>Name</th>\n",
       "      <th>Age</th>\n",
       "      <th>Grade</th>\n",
       "      <th>Graduated</th>\n",
       "    </tr>\n",
       "  </thead>\n",
       "  <tbody>\n",
       "    <tr>\n",
       "      <th>2</th>\n",
       "      <td>Mike</td>\n",
       "      <td>18</td>\n",
       "      <td>C</td>\n",
       "      <td>False</td>\n",
       "    </tr>\n",
       "    <tr>\n",
       "      <th>0</th>\n",
       "      <td>Joe</td>\n",
       "      <td>20</td>\n",
       "      <td>B</td>\n",
       "      <td>False</td>\n",
       "    </tr>\n",
       "    <tr>\n",
       "      <th>1</th>\n",
       "      <td>Bill</td>\n",
       "      <td>21</td>\n",
       "      <td>A</td>\n",
       "      <td>True</td>\n",
       "    </tr>\n",
       "  </tbody>\n",
       "</table>\n",
       "</div>"
      ],
      "text/plain": [
       "   Name  Age Grade  Graduated\n",
       "2  Mike   18     C      False\n",
       "0   Joe   20     B      False\n",
       "1  Bill   21     A       True"
      ]
     },
     "execution_count": 13,
     "metadata": {},
     "output_type": "execute_result"
    }
   ],
   "source": [
    "student.sort_values(\"Age\")"
   ]
  },
  {
   "cell_type": "markdown",
   "id": "6e88151b-afa2-4153-a7c2-577286bbc4ef",
   "metadata": {},
   "source": [
    "6. Tidy Data"
   ]
  },
  {
   "cell_type": "code",
   "execution_count": 15,
   "id": "840cadec-ce3b-4d2a-8058-4da538fd3906",
   "metadata": {},
   "outputs": [],
   "source": [
    "happiness = {\"subject 1\" : 10,\n",
    "             \"subject 2\" : 15,\n",
    "             \"subject 3\" : 18,\n",
    "             \"subject 4\" : 31}\n",
    "happiness_s = pd.Series(happiness)\n",
    "\n",
    "\n",
    "language = {\"subject 1\" : 2,\n",
    "            \"subject 2\" : 4,\n",
    "            \"subject 3\" : 7,\n",
    "            \"subject 4\" : 2}\n",
    "language_s = pd.Series(language)\n",
    "\n",
    "energy = {\"subject 1\" : 5,\n",
    "            \"subject 2\" : 9,\n",
    "             \"subject 3\" : 12,\n",
    "             \"subject 4\" : 7}\n",
    "energy_s = pd.Series(energy)\n",
    "\n",
    "memory = {\"subject 1\" : 3,\n",
    "             \"subject 2\" : 6,\n",
    "             \"subject 3\" : 9,\n",
    "             \"subject 4\" : 4}\n",
    "memory_s = pd.Series(memory)\n"
   ]
  },
  {
   "cell_type": "code",
   "execution_count": 21,
   "id": "2b8ad12d-f083-4ca9-95fb-b4e46fb092ab",
   "metadata": {
    "tags": []
   },
   "outputs": [
    {
     "data": {
      "text/html": [
       "<div>\n",
       "<style scoped>\n",
       "    .dataframe tbody tr th:only-of-type {\n",
       "        vertical-align: middle;\n",
       "    }\n",
       "\n",
       "    .dataframe tbody tr th {\n",
       "        vertical-align: top;\n",
       "    }\n",
       "\n",
       "    .dataframe thead th {\n",
       "        text-align: right;\n",
       "    }\n",
       "</style>\n",
       "<table border=\"1\" class=\"dataframe\">\n",
       "  <thead>\n",
       "    <tr style=\"text-align: right;\">\n",
       "      <th></th>\n",
       "      <th>happieness</th>\n",
       "      <th>language</th>\n",
       "      <th>energy</th>\n",
       "      <th>memory</th>\n",
       "    </tr>\n",
       "  </thead>\n",
       "  <tbody>\n",
       "    <tr>\n",
       "      <th>subject 1</th>\n",
       "      <td>10</td>\n",
       "      <td>2</td>\n",
       "      <td>5</td>\n",
       "      <td>3</td>\n",
       "    </tr>\n",
       "    <tr>\n",
       "      <th>subject 2</th>\n",
       "      <td>15</td>\n",
       "      <td>4</td>\n",
       "      <td>9</td>\n",
       "      <td>6</td>\n",
       "    </tr>\n",
       "    <tr>\n",
       "      <th>subject 3</th>\n",
       "      <td>18</td>\n",
       "      <td>7</td>\n",
       "      <td>12</td>\n",
       "      <td>9</td>\n",
       "    </tr>\n",
       "    <tr>\n",
       "      <th>subject 4</th>\n",
       "      <td>31</td>\n",
       "      <td>2</td>\n",
       "      <td>7</td>\n",
       "      <td>4</td>\n",
       "    </tr>\n",
       "  </tbody>\n",
       "</table>\n",
       "</div>"
      ],
      "text/plain": [
       "           happieness  language  energy  memory\n",
       "subject 1          10         2       5       3\n",
       "subject 2          15         4       9       6\n",
       "subject 3          18         7      12       9\n",
       "subject 4          31         2       7       4"
      ]
     },
     "execution_count": 21,
     "metadata": {},
     "output_type": "execute_result"
    }
   ],
   "source": [
    "dict_health = {\"happieness\" : happiness_s,\n",
    "               \"language\" : language_s,\n",
    "               \"energy\" : energy_s,\n",
    "               \"memory\" : memory_s}\n",
    "\n",
    "df = pd.DataFrame(dict_health)\n",
    "\n",
    "df"
   ]
  },
  {
   "cell_type": "code",
   "execution_count": 22,
   "id": "28808b60-2928-4674-b7c4-a1e8e9c86706",
   "metadata": {
    "tags": []
   },
   "outputs": [
    {
     "data": {
      "text/plain": [
       "18.5"
      ]
     },
     "execution_count": 22,
     "metadata": {},
     "output_type": "execute_result"
    }
   ],
   "source": [
    "df[\"happieness\"].mean()"
   ]
  },
  {
   "cell_type": "code",
   "execution_count": 23,
   "id": "33dc910b-1b3b-4cad-87de-7be9e53c8a2e",
   "metadata": {
    "tags": []
   },
   "outputs": [
    {
     "data": {
      "text/plain": [
       "3.75"
      ]
     },
     "execution_count": 23,
     "metadata": {},
     "output_type": "execute_result"
    }
   ],
   "source": [
    "df[\"language\"].mean()"
   ]
  },
  {
   "cell_type": "code",
   "execution_count": 24,
   "id": "0c775a33-7594-4070-aa5c-9deb6ff3e326",
   "metadata": {
    "tags": []
   },
   "outputs": [
    {
     "data": {
      "text/plain": [
       "8.25"
      ]
     },
     "execution_count": 24,
     "metadata": {},
     "output_type": "execute_result"
    }
   ],
   "source": [
    "df[\"energy\"].mean()"
   ]
  },
  {
   "cell_type": "code",
   "execution_count": 25,
   "id": "0af7df6a-0015-40b7-a6c8-0452ee00ace3",
   "metadata": {
    "tags": []
   },
   "outputs": [
    {
     "data": {
      "text/plain": [
       "5.5"
      ]
     },
     "execution_count": 25,
     "metadata": {},
     "output_type": "execute_result"
    }
   ],
   "source": [
    "df[\"memory\"].mean()"
   ]
  },
  {
   "cell_type": "code",
   "execution_count": 28,
   "id": "05b56c76-825a-4a1a-93b7-2a3a0f6367c3",
   "metadata": {
    "tags": []
   },
   "outputs": [
    {
     "data": {
      "text/plain": [
       "8.962886439832502"
      ]
     },
     "execution_count": 28,
     "metadata": {},
     "output_type": "execute_result"
    }
   ],
   "source": [
    "df[\"happieness\"].std()"
   ]
  },
  {
   "cell_type": "code",
   "execution_count": 29,
   "id": "9d97fab9-692e-488e-8acc-9d7561e92bc1",
   "metadata": {
    "tags": []
   },
   "outputs": [
    {
     "data": {
      "text/plain": [
       "2.362907813126304"
      ]
     },
     "execution_count": 29,
     "metadata": {},
     "output_type": "execute_result"
    }
   ],
   "source": [
    "df[\"language\"].std()"
   ]
  },
  {
   "cell_type": "code",
   "execution_count": 30,
   "id": "abd69853-a732-4c19-a48e-8b3617d4f187",
   "metadata": {
    "tags": []
   },
   "outputs": [
    {
     "data": {
      "text/plain": [
       "2.9860788111948193"
      ]
     },
     "execution_count": 30,
     "metadata": {},
     "output_type": "execute_result"
    }
   ],
   "source": [
    "df[\"energy\"].std()"
   ]
  },
  {
   "cell_type": "code",
   "execution_count": 31,
   "id": "116b0556-cc67-42bd-8653-9c9409b49f41",
   "metadata": {
    "tags": []
   },
   "outputs": [
    {
     "data": {
      "text/plain": [
       "2.6457513110645907"
      ]
     },
     "execution_count": 31,
     "metadata": {},
     "output_type": "execute_result"
    }
   ],
   "source": [
    "df[\"memory\"].std()"
   ]
  },
  {
   "cell_type": "code",
   "execution_count": 33,
   "id": "f3a462d4-3fd9-475b-9ba0-8dd1afa6f684",
   "metadata": {
    "tags": []
   },
   "outputs": [
    {
     "data": {
      "text/plain": [
       "18.5"
      ]
     },
     "execution_count": 33,
     "metadata": {},
     "output_type": "execute_result"
    }
   ],
   "source": [
    "df[\"happieness\"].mean()"
   ]
  },
  {
   "cell_type": "code",
   "execution_count": 40,
   "id": "9b1ec7a3-2eff-4861-9875-f920d85dae98",
   "metadata": {
    "tags": []
   },
   "outputs": [
    {
     "data": {
      "text/plain": [
       "2.2407216099581255"
      ]
     },
     "execution_count": 40,
     "metadata": {},
     "output_type": "execute_result"
    }
   ],
   "source": [
    "st = df[\"happieness\"].std()\n",
    "e = st / len(df[\"happieness\"])\n",
    "se"
   ]
  }
 ],
 "metadata": {
  "kernelspec": {
   "display_name": "Python 3 (ipykernel)",
   "language": "python",
   "name": "python3"
  },
  "language_info": {
   "codemirror_mode": {
    "name": "ipython",
    "version": 3
   },
   "file_extension": ".py",
   "mimetype": "text/x-python",
   "name": "python",
   "nbconvert_exporter": "python",
   "pygments_lexer": "ipython3",
   "version": "3.11.4"
  }
 },
 "nbformat": 4,
 "nbformat_minor": 5
}
