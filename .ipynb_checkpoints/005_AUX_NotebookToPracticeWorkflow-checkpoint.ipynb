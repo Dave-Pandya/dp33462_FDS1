{
 "cells": [
  {
   "cell_type": "markdown",
   "id": "a677aa22",
   "metadata": {},
   "source": [
    "# This is a test tutorial used to practice the class workflow\n",
    "\n",
    "You are asked to add your information below:\n",
    "\n",
    "Name: \n",
    "Surname:\n",
    "EID:\n",
    "Favorite animal:\n",
    "Favorite non living thing:\n"
   ]
  },
  {
   "cell_type": "code",
   "execution_count": 2,
   "id": "89d383d7",
   "metadata": {},
   "outputs": [
    {
     "name": "stdout",
     "output_type": "stream",
     "text": [
      "Dave Pandya\n",
      "EID: dp33462\n",
      "Favorite Animal: Dogs\n",
      "Favorite non living thing: Cars\n",
      "Dave: Pandya: dp33462: Dogs: Cars\n"
     ]
    }
   ],
   "source": [
    "print(\"Dave Pandya\")\n",
    "print(\"EID: dp33462\")\n",
    "print(\"Favorite Animal: Dogs\")\n",
    "print(\"Favorite non living thing: Cars\")\n",
    "print(\"Dave: Pandya: dp33462: Dogs: Cars\")"
   ]
  },
  {
   "cell_type": "code",
   "execution_count": null,
   "id": "e266c293",
   "metadata": {},
   "outputs": [],
   "source": []
  }
 ],
 "metadata": {
  "kernelspec": {
   "display_name": "Python 3 (ipykernel)",
   "language": "python",
   "name": "python3"
  },
  "language_info": {
   "codemirror_mode": {
    "name": "ipython",
    "version": 3
   },
   "file_extension": ".py",
   "mimetype": "text/x-python",
   "name": "python",
   "nbconvert_exporter": "python",
   "pygments_lexer": "ipython3",
   "version": "3.11.4"
  }
 },
 "nbformat": 4,
 "nbformat_minor": 5
}
