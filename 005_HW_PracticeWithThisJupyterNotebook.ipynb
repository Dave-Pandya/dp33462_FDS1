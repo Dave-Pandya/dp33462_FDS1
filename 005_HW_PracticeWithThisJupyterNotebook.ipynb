{
 "cells": [
  {
   "cell_type": "markdown",
   "id": "b71af9f1",
   "metadata": {},
   "source": [
    "# This is a notebook for homework used to practice the class workflow\n",
    "\n",
    "You are asked to add your information below:\n",
    "\n",
    "Name: \n",
    "\n",
    "Surname:\n",
    "\n",
    "EID:"
   ]
  },
  {
   "cell_type": "markdown",
   "id": "a758306e",
   "metadata": {},
   "source": [
    "Create a table with 5 rows and 3 columns using Markdown.\n",
    "\n",
    "Column 1 should code for artist name\n",
    "Column 2 should code for a song title\n",
    "Column 3 should reason you like the song.\n",
    "\n",
    "Please fill out the table with your top 5 artists and their respective top songs and an note explaining why/what you like of the song and artist.\n",
    "\n",
    "###### Hint: Avoid say \"because they are awesome!\" We really are interested in learing what you guys like.\n"
   ]
  },
  {
   "cell_type": "code",
   "execution_count": 3,
   "id": "bb273951",
   "metadata": {},
   "outputs": [
    {
     "name": "stdout",
     "output_type": "stream",
     "text": [
      "Name: Dave\n",
      "Surname: Pandya\n",
      "EID: dp33462\n"
     ]
    }
   ],
   "source": [
    "print('Name: Dave')\n",
    "print('Surname: Pandya')\n",
    "print('EID: dp33462') "
   ]
  },
  {
   "cell_type": "markdown",
   "id": "4af20bfb",
   "metadata": {},
   "source": [
    "| Artist Name | Song Title | Reason I like the song |\n",
    "| --- | --- | --- |\n",
    "| Metalica | ONE | The perfect rock band needs the greatest rock song. The tone, the emotion and feeling of the song is a new level of rock. It's a very dark story yet executed perfectly. |\n",
    "| Frank Sinatra | My Way | His voice, the tone and everything is perfect. The song as well is one of the greatest songs ever made. He tells the story of his life and how everything was on his terms and no one else's which is how I intent to live and hopefully everyone else as well. |\n",
    "| Foo Fighters | Everlong | This song is sad yes, but the feel of nostlgia I get from this song is crazy. I love the beat, the lyrics, and the backstory on why it was made makes it perfect. It brings back some good memories and Dave Grohl says it in the song as well with \"If everything could ever feel this good again\". I highly reccomend this song if you haven't heard it before. |\n",
    "| EMINEM | Lose Yourself | He is the greatest Rap artists ever and this is his best song. I grew up listening to him and continue to listen to him here and there. The motivation I get from this song is perfect. I want to get lost in the music and get lose in the rythum.| \n",
    "| Alter Bridge | Metalingus | I first heard this song while wathcing WWE growing up and it was made for my favorite WWE star THE RATED R SUPER STAR EDGE. Its already an amazing rock song but knowing it's from WWE and my favorite superstar's song makes it better (he didn't actually sing it but when he would be introduced this played) | \n"
   ]
  },
  {
   "cell_type": "code",
   "execution_count": null,
   "id": "30c70565",
   "metadata": {},
   "outputs": [],
   "source": []
  },
  {
   "cell_type": "code",
   "execution_count": null,
   "id": "4522b652",
   "metadata": {},
   "outputs": [],
   "source": []
  }
 ],
 "metadata": {
  "kernelspec": {
   "display_name": "Python 3 (ipykernel)",
   "language": "python",
   "name": "python3"
  },
  "language_info": {
   "codemirror_mode": {
    "name": "ipython",
    "version": 3
   },
   "file_extension": ".py",
   "mimetype": "text/x-python",
   "name": "python",
   "nbconvert_exporter": "python",
   "pygments_lexer": "ipython3",
   "version": "3.11.4"
  }
 },
 "nbformat": 4,
 "nbformat_minor": 5
}
