{
 "cells": [
  {
   "cell_type": "markdown",
   "id": "2519c405-5111-4606-b878-a3f8a58473bd",
   "metadata": {},
   "source": [
    "### Data Structures: Indexing and using Methods\n",
    "\n",
    "#### Objective:\n",
    "In this assignment, you'll practice indexing strings, tuples, and lists, \n",
    "including lists of lists. You'll also work with sets and dictionaries to \n",
    "become familiar with basic operations and applications.\n",
    "\n",
    "---"
   ]
  },
  {
   "cell_type": "markdown",
   "id": "e8a2b479-1301-4897-ba33-550a42bed3e5",
   "metadata": {},
   "source": [
    "#### 1. Indexing Strings:\n",
    "Given the string `s = \"PYTHON\"`, retrieve and print the following:\n",
    "\n",
    "a) The first character  \n",
    "b) The last character  \n",
    "c) The string \"H\"  \n",
    "d) The `type` of \"H\"\n",
    "\n",
    "\n",
    "---"
   ]
  },
  {
   "cell_type": "code",
   "execution_count": 59,
   "id": "2b2e8965-2774-4ddb-97c5-a8703f862eb0",
   "metadata": {
    "tags": []
   },
   "outputs": [],
   "source": [
    "s = \"PYTHON\""
   ]
  },
  {
   "cell_type": "code",
   "execution_count": 60,
   "id": "128abaa4-9cb1-4f8c-9abb-ab264d6a7677",
   "metadata": {
    "tags": []
   },
   "outputs": [
    {
     "data": {
      "text/plain": [
       "'P'"
      ]
     },
     "execution_count": 60,
     "metadata": {},
     "output_type": "execute_result"
    }
   ],
   "source": [
    "s[0]"
   ]
  },
  {
   "cell_type": "code",
   "execution_count": 61,
   "id": "13ce7a4d-791d-4c7a-9354-cd9731db09f8",
   "metadata": {
    "tags": []
   },
   "outputs": [
    {
     "data": {
      "text/plain": [
       "'N'"
      ]
     },
     "execution_count": 61,
     "metadata": {},
     "output_type": "execute_result"
    }
   ],
   "source": [
    "s[5]"
   ]
  },
  {
   "cell_type": "code",
   "execution_count": 9,
   "id": "f475d765-1c71-4a8a-bd22-ada8412bdc6d",
   "metadata": {
    "tags": []
   },
   "outputs": [
    {
     "data": {
      "text/plain": [
       "'H'"
      ]
     },
     "execution_count": 9,
     "metadata": {},
     "output_type": "execute_result"
    }
   ],
   "source": [
    "s[3]"
   ]
  },
  {
   "cell_type": "code",
   "execution_count": 10,
   "id": "65c8df51-f08f-441c-8ff0-f7ffeabf0cae",
   "metadata": {
    "tags": []
   },
   "outputs": [
    {
     "data": {
      "text/plain": [
       "str"
      ]
     },
     "execution_count": 10,
     "metadata": {},
     "output_type": "execute_result"
    }
   ],
   "source": [
    "type(s[3])"
   ]
  },
  {
   "cell_type": "markdown",
   "id": "55375844-0b8d-41dd-8796-bccda81f7fd3",
   "metadata": {},
   "source": [
    "#### 2. Indexing Tuples:\n",
    "Given the tuple `t = (10, 20, 30, 40, 50, 60)`, retrieve and print the \n",
    "following:\n",
    "\n",
    "a) The first element  \n",
    "b) The third element\n",
    "\n",
    "c) (Try to) Set the 3rd element to `30.4`\n",
    "\n",
    "---"
   ]
  },
  {
   "cell_type": "code",
   "execution_count": 11,
   "id": "bcf99e0b-1c0d-4eeb-ac81-70bdecca9117",
   "metadata": {
    "tags": []
   },
   "outputs": [],
   "source": [
    "t = (10, 20, 30, 40, 50, 60)"
   ]
  },
  {
   "cell_type": "code",
   "execution_count": 12,
   "id": "7a3137a3-eb19-4e78-bf37-5d4fc5b5ce0e",
   "metadata": {
    "tags": []
   },
   "outputs": [
    {
     "data": {
      "text/plain": [
       "10"
      ]
     },
     "execution_count": 12,
     "metadata": {},
     "output_type": "execute_result"
    }
   ],
   "source": [
    "t[0]"
   ]
  },
  {
   "cell_type": "code",
   "execution_count": 13,
   "id": "90c0ad26-30ab-43fa-a9af-134f55559089",
   "metadata": {
    "tags": []
   },
   "outputs": [
    {
     "data": {
      "text/plain": [
       "30"
      ]
     },
     "execution_count": 13,
     "metadata": {},
     "output_type": "execute_result"
    }
   ],
   "source": [
    "t[2]"
   ]
  },
  {
   "cell_type": "code",
   "execution_count": 18,
   "id": "7d65088d-3dbc-4c8a-8db6-295b2e6d00c3",
   "metadata": {
    "tags": []
   },
   "outputs": [
    {
     "data": {
      "text/plain": [
       "30.4"
      ]
     },
     "execution_count": 18,
     "metadata": {},
     "output_type": "execute_result"
    }
   ],
   "source": [
    "list_ = list(t)\n",
    "list_[2] = 30.4\n",
    "list_[2]"
   ]
  },
  {
   "cell_type": "code",
   "execution_count": 19,
   "id": "fca3d0d9-5d30-485f-9607-60896143d73c",
   "metadata": {
    "tags": []
   },
   "outputs": [
    {
     "name": "stdout",
     "output_type": "stream",
     "text": [
      "[10, 20, 30.4, 40, 50, 60]\n"
     ]
    }
   ],
   "source": [
    "print(list_)"
   ]
  },
  {
   "cell_type": "markdown",
   "id": "e35ccf9b-de9d-46be-a4b4-8549dcda4017",
   "metadata": {},
   "source": [
    "#### 3. Indexing Lists and Lists of Lists:\n",
    "Given the list `lst = [5, 15, 25, [35, 45, [55, 65, 75], 85], 95]`, \n",
    "retrieve and print the following:\n",
    "\n",
    "a) The first element  \n",
    "b) The last element  \n",
    "c) The sublist `[55, 65, 75]`\n",
    "\n",
    "d) The number `65`\n",
    "\n",
    "---"
   ]
  },
  {
   "cell_type": "code",
   "execution_count": 20,
   "id": "50ff4a67-1268-4df8-87dc-2b5ced6e3312",
   "metadata": {
    "tags": []
   },
   "outputs": [],
   "source": [
    "lst = [5,15,25, [35,45, [55, 65, 75], 85], 95]"
   ]
  },
  {
   "cell_type": "code",
   "execution_count": 21,
   "id": "8dea603d-5ec1-44d9-9f6f-7201aae9c15d",
   "metadata": {
    "tags": []
   },
   "outputs": [
    {
     "data": {
      "text/plain": [
       "5"
      ]
     },
     "execution_count": 21,
     "metadata": {},
     "output_type": "execute_result"
    }
   ],
   "source": [
    "lst[0]"
   ]
  },
  {
   "cell_type": "code",
   "execution_count": 23,
   "id": "c67f35a7-1a19-49a3-b8db-e2b191a29a43",
   "metadata": {
    "tags": []
   },
   "outputs": [
    {
     "data": {
      "text/plain": [
       "95"
      ]
     },
     "execution_count": 23,
     "metadata": {},
     "output_type": "execute_result"
    }
   ],
   "source": [
    "lst[4]"
   ]
  },
  {
   "cell_type": "code",
   "execution_count": 24,
   "id": "d0f91030-43d2-4fda-93c1-14a5f68f9132",
   "metadata": {
    "tags": []
   },
   "outputs": [
    {
     "data": {
      "text/plain": [
       "[55, 65, 75]"
      ]
     },
     "execution_count": 24,
     "metadata": {},
     "output_type": "execute_result"
    }
   ],
   "source": [
    "lst[3][2]"
   ]
  },
  {
   "cell_type": "code",
   "execution_count": 25,
   "id": "6c79cec3-a258-40bd-a478-70d95c50cec8",
   "metadata": {
    "tags": []
   },
   "outputs": [
    {
     "data": {
      "text/plain": [
       "65"
      ]
     },
     "execution_count": 25,
     "metadata": {},
     "output_type": "execute_result"
    }
   ],
   "source": [
    "lst[3][2][1]"
   ]
  },
  {
   "cell_type": "markdown",
   "id": "995c3cad-50bc-4edf-bdf8-79b80a68af2e",
   "metadata": {},
   "source": [
    "#### 4. Lists of Lists as Arrays:\n",
    "Consider a 3x3 matrix represented as a list of lists:\n",
    "\n",
    "```python\n",
    "matrix = [\n",
    "    [1, 2, 3],\n",
    "    [4, 5, 6],\n",
    "    [7, 8, 9]\n",
    "]\n",
    "```\n",
    "\n",
    "a) Retrieve the second row.  \n",
    "b) Retrieve the third column.  \n",
    "c) Change the center element to 0 and print the modified matrix.\n",
    "\n",
    "---"
   ]
  },
  {
   "cell_type": "code",
   "execution_count": 26,
   "id": "fe630bf8-0701-492b-8bb5-4667c97e9152",
   "metadata": {
    "tags": []
   },
   "outputs": [],
   "source": [
    "matrix = [\n",
    "    [1, 2, 3],\n",
    "    [4, 5, 6],\n",
    "    [7, 8, 9]\n",
    "]"
   ]
  },
  {
   "cell_type": "code",
   "execution_count": 27,
   "id": "9af9571b-e79b-4f2b-b3a8-62148af38fe0",
   "metadata": {
    "tags": []
   },
   "outputs": [
    {
     "data": {
      "text/plain": [
       "[4, 5, 6]"
      ]
     },
     "execution_count": 27,
     "metadata": {},
     "output_type": "execute_result"
    }
   ],
   "source": [
    "matrix[1]"
   ]
  },
  {
   "cell_type": "code",
   "execution_count": 34,
   "id": "fd3ceb71-15ff-4466-9b61-cff55ffd7609",
   "metadata": {
    "tags": []
   },
   "outputs": [
    {
     "name": "stdout",
     "output_type": "stream",
     "text": [
      "3 6 9\n"
     ]
    }
   ],
   "source": [
    "print(matrix[0][2], matrix[1][2], matrix[2][2])"
   ]
  },
  {
   "cell_type": "code",
   "execution_count": 33,
   "id": "e9c22959-5d18-4a16-b17e-e90496cedad2",
   "metadata": {
    "tags": []
   },
   "outputs": [
    {
     "name": "stdout",
     "output_type": "stream",
     "text": [
      "[1, 2, 3] \n",
      " [4, 0, 6] \n",
      " [7, 8, 9] \n",
      "\n"
     ]
    }
   ],
   "source": [
    "matrix[1][1] = 0\n",
    "print(matrix[0],\"\\n\",matrix[1],\"\\n\",matrix[2],\"\\n\")"
   ]
  },
  {
   "cell_type": "markdown",
   "id": "cd1ee29c-13da-40a0-8ff7-f70a20f7d739",
   "metadata": {},
   "source": [
    "#### 5. Using Sets:\n",
    "Given two lists `A = [1, 2, 2, 3, 4, 4, 5]` and `B = [4, 5, 5, 6, 7, 7, \n",
    "8]`:\n",
    "\n",
    "a) Create sets from both lists.  \n",
    "b) Find the union of the two sets.  \n",
    "c) Find the intersection of the two sets.  \n",
    "d) Find the elements that are in A but not in B.\n",
    "\n",
    "e) Find the elements that are in A or B but not both.\n",
    "\n",
    "---"
   ]
  },
  {
   "cell_type": "code",
   "execution_count": 62,
   "id": "f8a077a5-eb18-4342-b27b-a8887f23a0bd",
   "metadata": {
    "tags": []
   },
   "outputs": [],
   "source": [
    "A = [1, 2, 2, 3, 4, 4, 5]\n",
    "B = [4, 5, 5, 6, 7, 7, 8]"
   ]
  },
  {
   "cell_type": "code",
   "execution_count": 66,
   "id": "f4310c64-f81a-4dd9-b996-785e4be61a5c",
   "metadata": {
    "tags": []
   },
   "outputs": [],
   "source": [
    "setA = set(A)\n",
    "setB = set(B)"
   ]
  },
  {
   "cell_type": "code",
   "execution_count": 65,
   "id": "68fe7109-36be-49d9-8bd7-3075cee48588",
   "metadata": {
    "tags": []
   },
   "outputs": [
    {
     "data": {
      "text/plain": [
       "{1, 2, 3, 4, 5, 6, 7, 8}"
      ]
     },
     "execution_count": 65,
     "metadata": {},
     "output_type": "execute_result"
    }
   ],
   "source": [
    "setA | setB"
   ]
  },
  {
   "cell_type": "code",
   "execution_count": 67,
   "id": "1b90faf6-8d4a-48f7-b711-519299ebf21a",
   "metadata": {
    "tags": []
   },
   "outputs": [
    {
     "data": {
      "text/plain": [
       "{4, 5}"
      ]
     },
     "execution_count": 67,
     "metadata": {},
     "output_type": "execute_result"
    }
   ],
   "source": [
    "setA & setB"
   ]
  },
  {
   "cell_type": "code",
   "execution_count": 68,
   "id": "147d170b-f526-4680-b42b-ae720479e738",
   "metadata": {
    "tags": []
   },
   "outputs": [
    {
     "data": {
      "text/plain": [
       "{1, 2, 3}"
      ]
     },
     "execution_count": 68,
     "metadata": {},
     "output_type": "execute_result"
    }
   ],
   "source": [
    "setA - setB"
   ]
  },
  {
   "cell_type": "code",
   "execution_count": 69,
   "id": "cb9f27cc-362f-4b92-b49f-cef092a59ec0",
   "metadata": {
    "tags": []
   },
   "outputs": [
    {
     "data": {
      "text/plain": [
       "{1, 2, 3, 6, 7, 8}"
      ]
     },
     "execution_count": 69,
     "metadata": {},
     "output_type": "execute_result"
    }
   ],
   "source": [
    "setA ^ setB"
   ]
  },
  {
   "cell_type": "markdown",
   "id": "52141d3b-cf94-41a9-a751-bc9b176b3d90",
   "metadata": {},
   "source": [
    "#### 6. Working with Dictionaries:\n",
    "Consider the following dictionary that represents the stock of items in a \n",
    "store:\n",
    "\n",
    "```python\n",
    "stock = {\n",
    "    \"apple\": 50,\n",
    "    \"banana\": 25,\n",
    "    \"orange\": 30,\n",
    "    \"grape\": 45\n",
    "}\n",
    "```\n",
    "\n",
    "a) Retrieve the stock of `apple`.  \n",
    "b) Add a new fruit, `pear`, with a stock of 40.  \n",
    "c) Update the stock of `banana` to 30.  \n",
    "d) Remove `orange` from the stock.  \n",
    "\n",
    "\n",
    "---"
   ]
  },
  {
   "cell_type": "code",
   "execution_count": 49,
   "id": "6daa2782-85ef-4027-b92c-e47d85874c71",
   "metadata": {
    "tags": []
   },
   "outputs": [],
   "source": [
    "stock = {\n",
    "    \"apple\": 50,\n",
    "    \"banana\": 25,\n",
    "    \"orange\": 30,\n",
    "    \"grape\": 45\n",
    "}"
   ]
  },
  {
   "cell_type": "code",
   "execution_count": 70,
   "id": "a59bd185-afac-45ab-83c2-802c6c3649ce",
   "metadata": {
    "tags": []
   },
   "outputs": [
    {
     "name": "stdout",
     "output_type": "stream",
     "text": [
      "50\n"
     ]
    }
   ],
   "source": [
    "print(stock[\"apple\"])"
   ]
  },
  {
   "cell_type": "code",
   "execution_count": 55,
   "id": "c94e2e3c-0b56-4950-9328-431aa58cc932",
   "metadata": {
    "tags": []
   },
   "outputs": [
    {
     "name": "stdout",
     "output_type": "stream",
     "text": [
      "{'apple': 50, 'banana': 25, 'orange': 30, 'grape': 45, 'pear': 40}\n"
     ]
    }
   ],
   "source": [
    "stock[\"pear\"] = 40\n",
    "print(stock)"
   ]
  },
  {
   "cell_type": "code",
   "execution_count": 56,
   "id": "4ec83dd0-7723-4b38-8c36-850b507a5f2b",
   "metadata": {
    "tags": []
   },
   "outputs": [
    {
     "name": "stdout",
     "output_type": "stream",
     "text": [
      "{'apple': 50, 'banana': 30, 'orange': 30, 'grape': 45, 'pear': 40}\n"
     ]
    }
   ],
   "source": [
    "stock[\"banana\"] = 30\n",
    "print(stock)"
   ]
  },
  {
   "cell_type": "code",
   "execution_count": 57,
   "id": "da416a61-005d-4939-9a2d-da0730a3522b",
   "metadata": {
    "tags": []
   },
   "outputs": [
    {
     "name": "stdout",
     "output_type": "stream",
     "text": [
      "{'apple': 50, 'banana': 30, 'grape': 45, 'pear': 40}\n"
     ]
    }
   ],
   "source": [
    "del stock[\"orange\"]\n",
    "print(stock)"
   ]
  },
  {
   "cell_type": "markdown",
   "id": "00f21a78-51a9-4c50-ad60-074a66ddd743",
   "metadata": {},
   "source": [
    "#### Submission:\n",
    "Once you've completed the exercises, convert your notebook into a pdf and submit!\n"
   ]
  },
  {
   "cell_type": "code",
   "execution_count": null,
   "id": "72dc43e6-e38a-4138-a6f2-db1efdaddb52",
   "metadata": {},
   "outputs": [],
   "source": []
  }
 ],
 "metadata": {
  "kernelspec": {
   "display_name": "Python 3 (ipykernel)",
   "language": "python",
   "name": "python3"
  },
  "language_info": {
   "codemirror_mode": {
    "name": "ipython",
    "version": 3
   },
   "file_extension": ".py",
   "mimetype": "text/x-python",
   "name": "python",
   "nbconvert_exporter": "python",
   "pygments_lexer": "ipython3",
   "version": "3.11.4"
  }
 },
 "nbformat": 4,
 "nbformat_minor": 5
}
