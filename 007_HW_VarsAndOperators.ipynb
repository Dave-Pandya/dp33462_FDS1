{
 "cells": [
  {
   "cell_type": "markdown",
   "id": "816e7e5e-cec6-444d-adc6-a8add6f91d48",
   "metadata": {
    "tags": []
   },
   "source": [
    "### **Python Homework Assignment: Variables, Types, and Operators**\n",
    "\n",
    "**Objective:** Understand the basic concepts of variables, their types, and how operators can be used to manipulate them.\n",
    "\n",
    "#### Start a new JupyterLab Notebook and add code cells as needed. You can also add markdown cells to keep track of the questions.\n",
    "\n",
    "---"
   ]
  },
  {
   "cell_type": "markdown",
   "id": "99a1891a-db5a-4a78-84a1-5c60915cf455",
   "metadata": {},
   "source": [
    "**1. Variables and Assignment**\n",
    "\n",
    "a) Declare a variable `name` and assign your name to it. Print the variable.\n",
    "\n",
    "b) Declare a variable `age` and assign your age to it. Print the variable.\n",
    "\n",
    "c) Swap the values of `name` and `age` without using a temporary variable. Print the new values of `name` and `age`."
   ]
  },
  {
   "cell_type": "code",
   "execution_count": 92,
   "id": "4832c611-1267-4f11-8d78-0a60adb00232",
   "metadata": {
    "tags": []
   },
   "outputs": [
    {
     "name": "stdout",
     "output_type": "stream",
     "text": [
      "Dave\n"
     ]
    }
   ],
   "source": [
    "name = 'Dave'\n",
    "print(name)"
   ]
  },
  {
   "cell_type": "code",
   "execution_count": 94,
   "id": "b96eded3-fc2d-409d-8fee-6a0c4c4b7de1",
   "metadata": {
    "tags": []
   },
   "outputs": [
    {
     "name": "stdout",
     "output_type": "stream",
     "text": [
      "21\n"
     ]
    }
   ],
   "source": [
    "age = 21\n",
    "print(age)"
   ]
  },
  {
   "cell_type": "code",
   "execution_count": 95,
   "id": "f3ca05b1-f5c7-481e-87b9-3a3bf80f6ad7",
   "metadata": {
    "tags": []
   },
   "outputs": [
    {
     "name": "stdout",
     "output_type": "stream",
     "text": [
      "21\n",
      "Dave\n"
     ]
    }
   ],
   "source": [
    "name,age = age,name\n",
    "print(name)\n",
    "print(age)"
   ]
  },
  {
   "cell_type": "markdown",
   "id": "f6bbbeca-a6ee-437e-aed1-66b1f4fe5bf4",
   "metadata": {},
   "source": [
    "**2. Data Types**\n",
    "\n",
    "a) Using the `type()` function, determine and print the data type of the following values. Three of these will be new to you, but we'll cover them soon!\n",
    "\n",
    "- 5\n",
    "- 5.0\n",
    "- \"5\"\n",
    "- [5]\n",
    "- (5, )\n",
    "- {5}\n",
    "- True\n",
    "\n",
    "b) Declare a variable `is_student` and assign it the value `True` if you're a student, otherwise `False`. Print the variable.\n",
    "\n",
    "---"
   ]
  },
  {
   "cell_type": "code",
   "execution_count": 96,
   "id": "87fd6839-f3bc-4577-9be1-fca5b0032d5e",
   "metadata": {
    "tags": []
   },
   "outputs": [
    {
     "name": "stdout",
     "output_type": "stream",
     "text": [
      "<class 'int'> <class 'float'> <class 'str'> <class 'list'> <class 'tuple'> <class 'set'> <class 'bool'>\n"
     ]
    }
   ],
   "source": [
    "print(type(5),type(5.0),type(\"5\"),type([5]),type((5, )),type({5}),type(True))"
   ]
  },
  {
   "cell_type": "code",
   "execution_count": 97,
   "id": "db252d17-471a-4243-8e53-f35642ee8eed",
   "metadata": {
    "tags": []
   },
   "outputs": [
    {
     "name": "stdout",
     "output_type": "stream",
     "text": [
      "True\n"
     ]
    },
    {
     "data": {
      "text/plain": [
       "bool"
      ]
     },
     "execution_count": 97,
     "metadata": {},
     "output_type": "execute_result"
    }
   ],
   "source": [
    "is_student = True\n",
    "print(is_student)\n",
    "type(is_student)"
   ]
  },
  {
   "cell_type": "markdown",
   "id": "0a94a7fa-e3c9-4c83-9f0b-1408327dbb70",
   "metadata": {},
   "source": [
    "**3. Basic Operators**\n",
    "\n",
    "a) Using the `+`, `-`, `*`, and `/` operators, perform the following operations:\n",
    "\n",
    "- Add 15 and 23\n",
    "- Subtract 50 from 34\n",
    "- Multiply 8 by 7\n",
    "- Divide 100 by 4\n",
    "\n",
    "Print all results.\n",
    "\n",
    "b) Declare two variables `a = 10` and `b = 5`. Calculate and print the following:\n",
    "\n",
    "- The remainder when `a` is divided by `b`\n",
    "- The result of `a` raised to the power of `b`\n",
    "\n",
    "---"
   ]
  },
  {
   "cell_type": "code",
   "execution_count": 99,
   "id": "aa370b89-e53b-4005-a2ad-31acf0de1524",
   "metadata": {
    "tags": []
   },
   "outputs": [
    {
     "data": {
      "text/plain": [
       "38"
      ]
     },
     "execution_count": 99,
     "metadata": {},
     "output_type": "execute_result"
    }
   ],
   "source": [
    "15+23"
   ]
  },
  {
   "cell_type": "code",
   "execution_count": 100,
   "id": "dcdd3e8b-c120-4014-aca1-b2039973cb9a",
   "metadata": {
    "tags": []
   },
   "outputs": [
    {
     "data": {
      "text/plain": [
       "-16"
      ]
     },
     "execution_count": 100,
     "metadata": {},
     "output_type": "execute_result"
    }
   ],
   "source": [
    "34-50"
   ]
  },
  {
   "cell_type": "code",
   "execution_count": 101,
   "id": "1dbdc754-8084-4034-bca9-0dc2e49e859c",
   "metadata": {
    "tags": []
   },
   "outputs": [
    {
     "data": {
      "text/plain": [
       "56"
      ]
     },
     "execution_count": 101,
     "metadata": {},
     "output_type": "execute_result"
    }
   ],
   "source": [
    "8*7"
   ]
  },
  {
   "cell_type": "code",
   "execution_count": 102,
   "id": "931d241b-a8c9-4b24-b95d-3f6ab8f29391",
   "metadata": {
    "tags": []
   },
   "outputs": [
    {
     "data": {
      "text/plain": [
       "25.0"
      ]
     },
     "execution_count": 102,
     "metadata": {},
     "output_type": "execute_result"
    }
   ],
   "source": [
    "100/4"
   ]
  },
  {
   "cell_type": "code",
   "execution_count": 71,
   "id": "271688c1-4215-4065-b131-53c7fb5d1bfd",
   "metadata": {
    "tags": []
   },
   "outputs": [],
   "source": [
    "a = 10\n",
    "b = 5"
   ]
  },
  {
   "cell_type": "code",
   "execution_count": 104,
   "id": "136be775-6322-4ac5-87e8-1fe6698f5c24",
   "metadata": {
    "tags": []
   },
   "outputs": [
    {
     "data": {
      "text/plain": [
       "0"
      ]
     },
     "execution_count": 104,
     "metadata": {},
     "output_type": "execute_result"
    }
   ],
   "source": [
    "a%b"
   ]
  },
  {
   "cell_type": "code",
   "execution_count": 73,
   "id": "e68ba211-4d87-4bc7-a514-d9e59b1403c6",
   "metadata": {
    "tags": []
   },
   "outputs": [
    {
     "data": {
      "text/plain": [
       "100000"
      ]
     },
     "execution_count": 73,
     "metadata": {},
     "output_type": "execute_result"
    }
   ],
   "source": [
    "a**b"
   ]
  },
  {
   "cell_type": "markdown",
   "id": "cd0d18ae-3d8e-4a17-9566-603a9b6d9b44",
   "metadata": {},
   "source": [
    "**4. Type Conversion**\n",
    "\n",
    "a) Convert the string `\"123\"` to an integer and print the result.\n",
    "\n",
    "b) Convert the integer `456` to a string and print the result.\n",
    "\n",
    "c) Convert the float `78.9` to an integer. What value do you get?\n",
    "\n",
    "---"
   ]
  },
  {
   "cell_type": "code",
   "execution_count": 74,
   "id": "958fbc4a-4e04-4c32-9fed-f6bb70b654d2",
   "metadata": {
    "tags": []
   },
   "outputs": [
    {
     "name": "stdout",
     "output_type": "stream",
     "text": [
      "123\n",
      "<class 'int'>\n"
     ]
    }
   ],
   "source": [
    "w = int(\"123\")\n",
    "print(w)\n",
    "print(type(w))"
   ]
  },
  {
   "cell_type": "code",
   "execution_count": 75,
   "id": "b3af3283-dc7c-47c9-a323-62c7dfe5319e",
   "metadata": {
    "tags": []
   },
   "outputs": [
    {
     "name": "stdout",
     "output_type": "stream",
     "text": [
      "456\n",
      "<class 'str'>\n"
     ]
    }
   ],
   "source": [
    "q = str(456)\n",
    "print(q)\n",
    "print(type(q))"
   ]
  },
  {
   "cell_type": "code",
   "execution_count": 76,
   "id": "3313fac9-e63e-4e88-b855-c6f9c276d41c",
   "metadata": {
    "tags": []
   },
   "outputs": [
    {
     "name": "stdout",
     "output_type": "stream",
     "text": [
      "78\n",
      "<class 'int'>\n"
     ]
    }
   ],
   "source": [
    "t = int(78.9)\n",
    "print(t)\n",
    "print(type(t))\n",
    "#i get a whole number, specifically 78. I would expect round to occur and be 79. Guess not"
   ]
  },
  {
   "cell_type": "markdown",
   "id": "1507335b-0892-4095-bedb-c207060d7c8b",
   "metadata": {},
   "source": [
    "**5. String Manipulation with Operators**\n",
    "\n",
    "a) Concatenate (join) the following strings and print the result: `\"Python\"` and `\"Rocks\"`.\n",
    "\n",
    "b) Repeat the string `\"Hello \"` three times using the multiplication operator. Print the result."
   ]
  },
  {
   "cell_type": "code",
   "execution_count": 77,
   "id": "e2b8c74c-7942-4476-b935-6275d3fb75d5",
   "metadata": {
    "tags": []
   },
   "outputs": [
    {
     "name": "stdout",
     "output_type": "stream",
     "text": [
      "\"Python\"\"Rocks\"\n"
     ]
    }
   ],
   "source": [
    "first = '\"Python\"'\n",
    "second = '\"Rocks\"'\n",
    "third = first + second\n",
    "print(third)"
   ]
  },
  {
   "cell_type": "code",
   "execution_count": 78,
   "id": "33787e3c-2a93-451d-a09c-00de4b1f34a5",
   "metadata": {
    "tags": []
   },
   "outputs": [
    {
     "name": "stdout",
     "output_type": "stream",
     "text": [
      "\"Hello\"\"Hello\"\"Hello\"\n"
     ]
    }
   ],
   "source": [
    "hi = '\"Hello\"'\n",
    "three = 3\n",
    "result = hi*three\n",
    "print(result)"
   ]
  },
  {
   "cell_type": "markdown",
   "id": "fa496107-1e22-469a-b002-b90b33576cf7",
   "metadata": {},
   "source": [
    "**6. Bonus Question**\n",
    "\n",
    "Declare three variables: `x = 5`, `y = 10`, and `z = 15`. Using only the arithmetic operators (`+`, `-`, `*`, `/`) and the variable names, swap the values of the variables such that `x` has the value of `y`, `y` has the value of `z`, and `z` has the value of `x`. \n",
    "\n",
    "(So, for example, x = x + z would be fair, but x = 20 would be cheating!)\n",
    "\n",
    "---\n",
    "\n",
    "Good luck!"
   ]
  },
  {
   "cell_type": "code",
   "execution_count": 105,
   "id": "03035ec7-cb10-4063-b654-24df6d4fcfd6",
   "metadata": {
    "tags": []
   },
   "outputs": [],
   "source": [
    "x = 5\n",
    "y = 10\n",
    "z = 15"
   ]
  },
  {
   "cell_type": "code",
   "execution_count": 80,
   "id": "0cd7c7e9-5147-4436-b3c7-b07db845eff0",
   "metadata": {
    "tags": []
   },
   "outputs": [],
   "source": [
    "# we now want x to be 10, y to be 15 and z to be 5"
   ]
  },
  {
   "cell_type": "code",
   "execution_count": 106,
   "id": "d5a1f6c0-7ad2-4e3f-b8a2-3f022b70c7b9",
   "metadata": {
    "tags": []
   },
   "outputs": [],
   "source": [
    "x = z - x\n",
    "z = z - y\n",
    "y = y + z"
   ]
  },
  {
   "cell_type": "code",
   "execution_count": 107,
   "id": "2824f471-18ba-4bcd-a5e0-14f64807ca87",
   "metadata": {
    "tags": []
   },
   "outputs": [
    {
     "name": "stdout",
     "output_type": "stream",
     "text": [
      "x= 10 y= 15 z= 5\n"
     ]
    }
   ],
   "source": [
    "print(\"x=\",x,\"y=\",y,\"z=\",z)"
   ]
  },
  {
   "cell_type": "code",
   "execution_count": null,
   "id": "662f9805-8451-4640-a598-572e971bf7b9",
   "metadata": {},
   "outputs": [],
   "source": []
  }
 ],
 "metadata": {
  "kernelspec": {
   "display_name": "Python 3 (ipykernel)",
   "language": "python",
   "name": "python3"
  },
  "language_info": {
   "codemirror_mode": {
    "name": "ipython",
    "version": 3
   },
   "file_extension": ".py",
   "mimetype": "text/x-python",
   "name": "python",
   "nbconvert_exporter": "python",
   "pygments_lexer": "ipython3",
   "version": "3.11.4"
  }
 },
 "nbformat": 4,
 "nbformat_minor": 5
}
