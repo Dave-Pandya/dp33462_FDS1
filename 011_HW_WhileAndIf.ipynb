{
 "cells": [
  {
   "cell_type": "markdown",
   "id": "a297dc8c-4462-4db1-9942-ec4607228c03",
   "metadata": {},
   "source": [
    "**Homework Assignment: Control Structures**\n",
    "\n",
    "**Objective**: To gain hands-on experience with `if` statements and `while` loops in Python.\n",
    "\n",
    "---\n",
    "\n",
    "**0. Logic:**\n",
    "\n",
    "a) Write come code that determines whether either of the letters in `test_strs = [“y”, “o”]` are in the string `comp_str = “Hello World!”`.\n",
    "\n",
    "b) In logic and computing there is a comparison called an “exclusive or” or “xor”. An xor test produces `True`(or 1) only when one *but not both* of its inputs are `True`. Note that this is different than an `or`, which yields `True` if *either* input is true. Write a line of code that performs an xor on two Boolean variables, a and b, using the tests we know about: `and`, `or`, and `not`. Test you code for all four possible combinations of a and b."
   ]
  },
  {
   "cell_type": "code",
   "execution_count": 1,
   "id": "8757d32a-6d92-4e1e-b854-4eb08cc50e34",
   "metadata": {
    "tags": []
   },
   "outputs": [],
   "source": [
    "test_strs = [\"y,\", \"o\"]\n",
    "str(test_strs)\n",
    "comp_str = \"Hello World\""
   ]
  },
  {
   "cell_type": "code",
   "execution_count": 2,
   "id": "9ff4085b-6f11-4d9e-b6e0-70a2947e816b",
   "metadata": {
    "tags": []
   },
   "outputs": [
    {
     "data": {
      "text/plain": [
       "False"
      ]
     },
     "execution_count": 2,
     "metadata": {},
     "output_type": "execute_result"
    }
   ],
   "source": [
    "test_strs[0] in comp_str"
   ]
  },
  {
   "cell_type": "code",
   "execution_count": 3,
   "id": "1d3734b9-614e-4f91-a251-9817b7065537",
   "metadata": {
    "tags": []
   },
   "outputs": [
    {
     "data": {
      "text/plain": [
       "True"
      ]
     },
     "execution_count": 3,
     "metadata": {},
     "output_type": "execute_result"
    }
   ],
   "source": [
    "test_strs[1] in comp_str"
   ]
  },
  {
   "cell_type": "code",
   "execution_count": 4,
   "id": "4c7ffa3a-0598-4af8-98c1-177766e0b216",
   "metadata": {
    "tags": []
   },
   "outputs": [],
   "source": [
    "boolean = [0,1]\n",
    "a, b = [0,1]"
   ]
  },
  {
   "cell_type": "code",
   "execution_count": 5,
   "id": "0903aa4b-c448-407c-8a3b-e9cbb54de2ee",
   "metadata": {
    "tags": []
   },
   "outputs": [
    {
     "data": {
      "text/plain": [
       "True"
      ]
     },
     "execution_count": 5,
     "metadata": {},
     "output_type": "execute_result"
    }
   ],
   "source": [
    "a in boolean and b in boolean"
   ]
  },
  {
   "cell_type": "code",
   "execution_count": 6,
   "id": "cd64cb72-f153-4b62-afc2-8e3c15dda7ea",
   "metadata": {
    "tags": []
   },
   "outputs": [
    {
     "data": {
      "text/plain": [
       "True"
      ]
     },
     "execution_count": 6,
     "metadata": {},
     "output_type": "execute_result"
    }
   ],
   "source": [
    "a in boolean or b in boolean"
   ]
  },
  {
   "cell_type": "code",
   "execution_count": 7,
   "id": "32884068-6fb0-4047-b75e-dd89d35501d6",
   "metadata": {
    "tags": []
   },
   "outputs": [
    {
     "data": {
      "text/plain": [
       "False"
      ]
     },
     "execution_count": 7,
     "metadata": {},
     "output_type": "execute_result"
    }
   ],
   "source": [
    "not (a in boolean and b in boolean)"
   ]
  },
  {
   "cell_type": "code",
   "execution_count": 8,
   "id": "e94619f8-c9ce-4370-8783-2f7812fa69f0",
   "metadata": {
    "tags": []
   },
   "outputs": [
    {
     "data": {
      "text/plain": [
       "False"
      ]
     },
     "execution_count": 8,
     "metadata": {},
     "output_type": "execute_result"
    }
   ],
   "source": [
    "not (a in boolean or b in boolean)"
   ]
  },
  {
   "cell_type": "markdown",
   "id": "a52724b5-dd59-4e0c-8a5d-d0f50756e14c",
   "metadata": {},
   "source": [
    "**1. Age Category:**\n",
    "\n",
    "Write a program that:  \n",
    "\n",
    "a) Asks the user to input their age.  \n",
    "b) Based on the age, classifies them into one of the following categories:\n",
    "\n",
    "  - Infant (0-2 years)\n",
    "  - Child (3-12 years)\n",
    "  - Teenager (13-19 years)\n",
    "  - Adult (20-64 years)\n",
    "  - Senior (65 years and above)\n",
    "\n",
    "*Hint*: Use the `if-elif-else` structure.\n",
    "\n",
    "---"
   ]
  },
  {
   "cell_type": "code",
   "execution_count": 9,
   "id": "eb879a6b-5b92-4d47-96a3-8812770aae38",
   "metadata": {
    "tags": []
   },
   "outputs": [
    {
     "name": "stdin",
     "output_type": "stream",
     "text": [
      "What is your age?\n",
      " 21\n"
     ]
    },
    {
     "name": "stdout",
     "output_type": "stream",
     "text": [
      "You are an adult.\n"
     ]
    }
   ],
   "source": [
    "age = input(\"What is your age?\\n\")\n",
    "age = int(age)\n",
    "\n",
    "if age < 2 :\n",
    "    print(\"You are a infant.\")\n",
    "elif age < 12 :\n",
    "    print(\"You are a child.\")\n",
    "elif age < 19 :\n",
    "    print(\"You are a teenager.\")\n",
    "elif age < 64 :\n",
    "    print(\"You are an adult.\")\n",
    "elif age > 65 :\n",
    "    print(\"You are a senior.\")"
   ]
  },
  {
   "cell_type": "markdown",
   "id": "2b0f1f86-32b2-4571-8ba1-7f3b6d095e12",
   "metadata": {},
   "source": [
    "---"
   ]
  },
  {
   "cell_type": "markdown",
   "id": "2ddb6b1d-573e-49f2-9c42-e794bb3e7bc5",
   "metadata": {},
   "source": [
    "**2. Number Classifier:**\n",
    "\n",
    "Ask the user to input a number. Write a program to:  \n",
    "\n",
    "a) Check if the number is positive, negative, or zero.  \n",
    "b) Check if the number is even or odd.  \n",
    "\n",
    "Sample output: “Your number, 42, is positive and even.\"\n",
    "\n",
    "—"
   ]
  },
  {
   "cell_type": "code",
   "execution_count": 10,
   "id": "b36490ab-c399-4250-845e-b1560afa6b78",
   "metadata": {
    "tags": []
   },
   "outputs": [
    {
     "name": "stdin",
     "output_type": "stream",
     "text": [
      "Input a number please\n",
      " 23\n"
     ]
    },
    {
     "name": "stdout",
     "output_type": "stream",
     "text": [
      "Your number is positive and odd\n"
     ]
    }
   ],
   "source": [
    "number = input(\"Input a number please\\n\")\n",
    "number = int(number)\n",
    "\n",
    "if number > 0 :\n",
    "    if (number % 2) == 0 :\n",
    "        print(\"Your number is positive and even\")\n",
    "    else :\n",
    "        print(\"Your number is positive and odd\")\n",
    "elif number < 0 :\n",
    "    if (number % 2) == 0 : \n",
    "        print(\"Your number is negative and even\")\n",
    "    else :\n",
    "        print(\"Your number is negative and odd\")\n",
    "elif number == 0 :\n",
    "    print(\"The number you have entered is zero.\")"
   ]
  },
  {
   "cell_type": "markdown",
   "id": "eaa36cce-e4b5-4db4-900f-176c9bffe808",
   "metadata": {},
   "source": [
    "---"
   ]
  },
  {
   "cell_type": "markdown",
   "id": "44c78a02-770e-40b7-8562-db0681a72ca7",
   "metadata": {},
   "source": [
    "**3. Simple Calculator:**\n",
    "\n",
    "Design a calculator that can perform addition, subtraction, \n",
    "multiplication, and division. The program should:  \n",
    "\n",
    "a) Ask the user to input two numbers.  \n",
    "b) Ask the user to select an operation.  \n",
    "c) Perform the selected operation on the two numbers and display the \n",
    "result.  \n",
    "\n",
    "Make sure to handle invalid operations with an appropriate error message.\n",
    "\n",
    "---\n"
   ]
  },
  {
   "cell_type": "code",
   "execution_count": 11,
   "id": "8c444b32-05e5-4f45-b1e7-a9e08a94222b",
   "metadata": {
    "tags": []
   },
   "outputs": [
    {
     "name": "stdin",
     "output_type": "stream",
     "text": [
      "Input a number.\n",
      " 38\n",
      "Input another number.\n",
      " 6\n",
      "Pick a opperation: addition, subtraction, multiplication or division.\n",
      " subtraction\n"
     ]
    },
    {
     "name": "stdout",
     "output_type": "stream",
     "text": [
      "32\n"
     ]
    }
   ],
   "source": [
    "num_1 = int(input(\"Input a number.\\n\"))\n",
    "\n",
    "num_2 = int(input(\"Input another number.\\n\"))             \n",
    "\n",
    "operation = input(\"Pick a opperation: addition, subtraction, multiplication or division.\\n\")\n",
    "operation = operation.lower()\n",
    "\n",
    "\n",
    "if operation == \"addition\" :\n",
    "    print(num_1 + num_2)\n",
    "elif operation == \"subtraction\" :\n",
    "    print(num_1 - num_2)\n",
    "elif operation == \"multiplication\" : \n",
    "    print(num_1 * num_2)\n",
    "elif operation == \"division\" :\n",
    "    print(num_1 / num_2)\n",
    "else :\n",
    "    print(\"ERROR!!! Please input correct operation with correct spelling and DO NOT SPACE before and after the intended operation\")"
   ]
  },
  {
   "cell_type": "markdown",
   "id": "0abe5bc8-6a57-4d49-b2f8-a57c7ad3049f",
   "metadata": {},
   "source": [
    "---"
   ]
  },
  {
   "cell_type": "markdown",
   "id": "3ef72d37-a6ea-4669-adb5-ca13a53f2ceb",
   "metadata": {},
   "source": [
    "**4. Guessing Game:**\n",
    "\n",
    "a) The program should produce a random answer between 1 and 10.  \n",
    "\n",
    "    - use `import random` (we only have to do this once, at the top of the program)\n",
    "    - then `answer = random.randint()` to get the random answer\n",
    "    \n",
    "b) Ask the user to guess the number.  \n",
    "c) Provide hints like \"Too High\" or \"Too Low\" based on the user's guess.  \n",
    "d) The user should have some maximum number of attempts.  \n",
    "e) After the maximum number of incorrect attempts or if the user guesses correctly, reveal the \n",
    "correct number.  \n",
    "\n",
    "---"
   ]
  },
  {
   "cell_type": "code",
   "execution_count": 12,
   "id": "b3e83990-fc20-430c-997c-fbbb4cb82765",
   "metadata": {
    "tags": []
   },
   "outputs": [
    {
     "name": "stdout",
     "output_type": "stream",
     "text": [
      "You have 8 left\n"
     ]
    },
    {
     "name": "stdin",
     "output_type": "stream",
     "text": [
      "Guess a number between 0 and 100.\n",
      " 50\n"
     ]
    },
    {
     "name": "stdout",
     "output_type": "stream",
     "text": [
      "Sorry that is too high.\n",
      "\n",
      "You have 7 left\n"
     ]
    },
    {
     "name": "stdin",
     "output_type": "stream",
     "text": [
      "Guess a number between 0 and 100.\n",
      " 25\n"
     ]
    },
    {
     "name": "stdout",
     "output_type": "stream",
     "text": [
      "Sorry that is too low.\n",
      "\n",
      "You have 6 left\n"
     ]
    },
    {
     "name": "stdin",
     "output_type": "stream",
     "text": [
      "Guess a number between 0 and 100.\n",
      " 40\n"
     ]
    },
    {
     "name": "stdout",
     "output_type": "stream",
     "text": [
      "Sorry that is too high.\n",
      "\n",
      "You have 5 left\n"
     ]
    },
    {
     "name": "stdin",
     "output_type": "stream",
     "text": [
      "Guess a number between 0 and 100.\n",
      " 35\n"
     ]
    },
    {
     "name": "stdout",
     "output_type": "stream",
     "text": [
      "Sorry that is too low.\n",
      "\n",
      "You have 4 left\n"
     ]
    },
    {
     "name": "stdin",
     "output_type": "stream",
     "text": [
      "Guess a number between 0 and 100.\n",
      " 36\n"
     ]
    },
    {
     "name": "stdout",
     "output_type": "stream",
     "text": [
      "That's right\n"
     ]
    }
   ],
   "source": [
    "import random \n",
    "answer = random.randint(0, 100)\n",
    "#i kept getting an error if it kept the () blank\n",
    "total_guesses = 8\n",
    "guess = 0\n",
    "\n",
    "while guess != answer :\n",
    "    print(f\"You have {total_guesses} left\")\n",
    "    guess = int(input(\"Guess a number between 0 and 100.\\n\"))\n",
    "    if guess > answer: \n",
    "        total_guesses -= 1\n",
    "        print(\"Sorry that is too high.\\n\")\n",
    "    elif guess < answer :\n",
    "        total_guesses -= 1\n",
    "        print(\"Sorry that is too low.\\n\")\n",
    "    else :\n",
    "         print(\"That's right\")\n",
    "    if total_guesses == 0 : \n",
    "        print(f\"You ran out of guesses. The correct number was: {answer}\")\n",
    "        break"
   ]
  },
  {
   "cell_type": "markdown",
   "id": "057319bc-bdca-4f44-83a1-033334c4a7a0",
   "metadata": {},
   "source": [
    "---"
   ]
  },
  {
   "cell_type": "markdown",
   "id": "6d891f2a-57c8-48ee-a66f-280247e0a930",
   "metadata": {},
   "source": [
    "**5. Counter Contrast:**\n",
    "\n",
    "Write two versions of a program that asks the user for a positive integer \n",
    "`n` and then prints the numbers from 1 up to `n`.  \n",
    "\n",
    "a) First, use a `for` loop.  \n",
    "b) Next, use a `while` loop.  \n",
    "\n",
    "Which loop structure do you prefer in this context, and why?  \n",
    "\n",
    "---"
   ]
  },
  {
   "cell_type": "code",
   "execution_count": 13,
   "id": "3eb56fd6-bf6d-4648-b461-14d7e9fdde0d",
   "metadata": {
    "tags": []
   },
   "outputs": [
    {
     "name": "stdin",
     "output_type": "stream",
     "text": [
      "Give me a positive integer\n",
      " 10\n"
     ]
    }
   ],
   "source": [
    "n = int(input(\"Give me a positive integer\\n\"))"
   ]
  },
  {
   "cell_type": "code",
   "execution_count": 14,
   "id": "001ddbf9-c65a-4594-a203-2447d731090f",
   "metadata": {},
   "outputs": [
    {
     "name": "stdout",
     "output_type": "stream",
     "text": [
      "1\n",
      "2\n",
      "3\n",
      "4\n",
      "5\n",
      "6\n",
      "7\n",
      "8\n",
      "9\n",
      "10\n"
     ]
    }
   ],
   "source": [
    "for i in range(1, n+1) :\n",
    "    print(i)"
   ]
  },
  {
   "cell_type": "code",
   "execution_count": 15,
   "id": "d3313646-33e1-443d-8b27-d25527ccba7b",
   "metadata": {
    "tags": []
   },
   "outputs": [
    {
     "name": "stdout",
     "output_type": "stream",
     "text": [
      "1\n",
      "2\n",
      "3\n",
      "4\n",
      "5\n",
      "6\n",
      "7\n",
      "8\n",
      "9\n",
      "10\n"
     ]
    }
   ],
   "source": [
    "o = 1\n",
    "\n",
    "while o <=n :\n",
    "    print(o)\n",
    "    o += 1"
   ]
  },
  {
   "cell_type": "markdown",
   "id": "9a96c8e8-2395-4e33-badf-42ecc8aa5149",
   "metadata": {},
   "source": [
    "For this i prefer the `for` loop because it was easier to format and output with less errors."
   ]
  },
  {
   "cell_type": "markdown",
   "id": "dd978483-94a6-430f-a42c-b2b67350d445",
   "metadata": {},
   "source": [
    "---"
   ]
  },
  {
   "cell_type": "markdown",
   "id": "0e3730e0-4426-43d9-a90b-e09f92df7008",
   "metadata": {},
   "source": [
    "**6. Multiplication Table:**\n",
    "\n",
    "Write a program that:  \n",
    "\n",
    "a) Asks the user for a number `n`.  \n",
    "b) Generates and prints the multiplication table for the number up to 10.  \n",
    "\n",
    "For example, if the user inputs `5`, the output should be:  \n",
    "```\n",
    "5 x 1 = 5\n",
    "5 x 2 = 10\n",
    "...\n",
    "5 x 10 = 50\n",
    "```\n",
    "\n",
    "Implement this twice:  \n",
    "a) Using a `for` loop.  \n",
    "b) Using a `while` loop.  \n",
    "\n",
    "Which loop structure do you think is better in this context, and why?  \n",
    "\n",
    "---\n",
    "\n"
   ]
  },
  {
   "cell_type": "code",
   "execution_count": 16,
   "id": "526e6033-bad8-4066-92f8-77a1c011f395",
   "metadata": {
    "tags": []
   },
   "outputs": [
    {
     "name": "stdin",
     "output_type": "stream",
     "text": [
      "Give me a number.\n",
      " 10\n"
     ]
    }
   ],
   "source": [
    "table = [1, 2, 3, 4, 5, 6, 7, 8, 9, 10]\n",
    "multiple = 1\n",
    "n = int(input(\"Give me a number.\\n\"))"
   ]
  },
  {
   "cell_type": "code",
   "execution_count": 17,
   "id": "236ad2fd-d1c0-4318-92ea-513974f0462b",
   "metadata": {
    "tags": []
   },
   "outputs": [
    {
     "name": "stdout",
     "output_type": "stream",
     "text": [
      "10 x 1 = 10\n",
      "10 x 2 = 20\n",
      "10 x 3 = 30\n",
      "10 x 4 = 40\n",
      "10 x 5 = 50\n",
      "10 x 6 = 60\n",
      "10 x 7 = 70\n",
      "10 x 8 = 80\n",
      "10 x 9 = 90\n",
      "10 x 10 = 100\n"
     ]
    }
   ],
   "source": [
    "for i in table:\n",
    "    multi = n * i\n",
    "    print(f\"{n} x {i} = {multi}\")"
   ]
  },
  {
   "cell_type": "code",
   "execution_count": 18,
   "id": "caaec310-6299-434d-a099-5e8a31511856",
   "metadata": {
    "tags": []
   },
   "outputs": [
    {
     "name": "stdout",
     "output_type": "stream",
     "text": [
      "10 x 1 = 10\n",
      "10 x 2 = 20\n",
      "10 x 3 = 30\n",
      "10 x 4 = 40\n",
      "10 x 5 = 50\n",
      "10 x 6 = 60\n",
      "10 x 7 = 70\n",
      "10 x 8 = 80\n",
      "10 x 9 = 90\n",
      "10 x 10 = 100\n"
     ]
    }
   ],
   "source": [
    "while multiple <= 10 :\n",
    "    product = n * multiple\n",
    "    print(f\"{n} x {multiple} = {product}\")\n",
    "    multiple += 1      "
   ]
  },
  {
   "cell_type": "markdown",
   "id": "22f0778a-7715-4534-b232-352cd45bf0ae",
   "metadata": {},
   "source": [
    "For this case I prefer the `while` loop because I don't have to call a table and just have to define 1 as multiple. \n",
    "The code is easier to follow along with even if it took me ages to format. \n",
    "---"
   ]
  },
  {
   "cell_type": "markdown",
   "id": "96cc9c6c-bc78-401d-899f-9984cd78821e",
   "metadata": {},
   "source": [
    "Think about writing a program for which the user must enter a positive number. If they don't, the program should prompt them again until they do.    \n",
    "\n",
    "Would you use a `for` loop or a `while` loop to do this? Why?  \n",
    "\n",
    "---"
   ]
  },
  {
   "cell_type": "markdown",
   "id": "0748eb8a-e5b5-4585-a4c2-f35270717982",
   "metadata": {},
   "source": [
    "For this i would use a `while` loop because it would be easier to identify a positive number and run a loop and then provide the proper error if a negative number was added. \n",
    "I'm not sure how a `for` loop could be used to target positive numbers only, but I know it's doable. \n",
    "Then again, I would still pick the `while` loop over the `for` loop. "
   ]
  },
  {
   "cell_type": "code",
   "execution_count": null,
   "id": "4e437898-aa83-4543-82a8-b196f27c4ae3",
   "metadata": {},
   "outputs": [],
   "source": []
  }
 ],
 "metadata": {
  "kernelspec": {
   "display_name": "Python 3 (ipykernel)",
   "language": "python",
   "name": "python3"
  },
  "language_info": {
   "codemirror_mode": {
    "name": "ipython",
    "version": 3
   },
   "file_extension": ".py",
   "mimetype": "text/x-python",
   "name": "python",
   "nbconvert_exporter": "python",
   "pygments_lexer": "ipython3",
   "version": "3.11.4"
  }
 },
 "nbformat": 4,
 "nbformat_minor": 5
}
