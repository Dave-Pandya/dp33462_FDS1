{
 "cells": [
  {
   "cell_type": "markdown",
   "id": "5936b02f-4d65-44a7-b3dc-64bfddfd92c2",
   "metadata": {},
   "source": [
    "## Python Looping Homework Assignment\n",
    "\n",
    "### Part 1: `for` loops with lists and `range()`\n",
    "\n",
    "#### 1. Lists:\n",
    "\n",
    "a) Write a program (i.e. code cell) that takes a list of numbers and prints each number multiplied by 2.\n",
    "\n",
    "Example Input: `[2, 4, 6, 8]`\n",
    "\n",
    "Example Output:\n",
    "```\n",
    "4\n",
    "8\n",
    "12\n",
    "16\n",
    "```\n",
    "\n",
    "b) Given a list of strings, write a program that prints out the elements of the string in reverse order without reversing the list itself.\n",
    "\n",
    "Example Input: `[\"apple\", \"pear\", \"kiwi\", \"grape\"]`\n",
    "\n",
    "Example Output:\n",
    "```\n",
    "grape\n",
    "kiwi\n",
    "pear\n",
    "apple\n",
    "```"
   ]
  },
  {
   "cell_type": "code",
   "execution_count": 59,
   "id": "1da43bf0-eeba-418d-a8f8-636f3d22de9f",
   "metadata": {
    "tags": []
   },
   "outputs": [],
   "source": [
    "list_num = [2, 4, 6, 8]"
   ]
  },
  {
   "cell_type": "code",
   "execution_count": 60,
   "id": "1227386c-f7eb-41a3-a877-2a8b02ff3e65",
   "metadata": {},
   "outputs": [
    {
     "name": "stdout",
     "output_type": "stream",
     "text": [
      "4\n",
      "8\n",
      "12\n",
      "16\n"
     ]
    }
   ],
   "source": [
    "for i in list_num :\n",
    "    multiply = i * 2\n",
    "    print(multiply)"
   ]
  },
  {
   "cell_type": "code",
   "execution_count": 61,
   "id": "dc54789d-a663-4723-a299-981bc379560a",
   "metadata": {
    "tags": []
   },
   "outputs": [],
   "source": [
    "list_str = [\"apple\", \"pear\", \"kiwi\", \"grape\"]"
   ]
  },
  {
   "cell_type": "code",
   "execution_count": 62,
   "id": "75beba40-6e8c-43da-bf18-d42c7a3bd870",
   "metadata": {
    "tags": []
   },
   "outputs": [
    {
     "name": "stdout",
     "output_type": "stream",
     "text": [
      "grape\n",
      "kiwi\n",
      "pear\n",
      "apple\n"
     ]
    }
   ],
   "source": [
    "last_index = len(list_str) - 1\n",
    "\n",
    "for i in range(last_index, -1, -1):\n",
    "    print(list_str[i])"
   ]
  },
  {
   "cell_type": "markdown",
   "id": "c11714e0-34bf-490e-a1a4-bb33d5e13563",
   "metadata": {},
   "source": [
    "#### 2. Using the range() function:\n",
    "\n",
    "a) Write code that uses a `for` loop and the `range()` function to print numbers 0 through 9.\n",
    "\n",
    "b) Use the `range()` function to print numbers from 5 to 15.\n",
    "\n",
    "c) Create a program that prints out the first 10 even numbers using the `range()` function.\n"
   ]
  },
  {
   "cell_type": "code",
   "execution_count": 63,
   "id": "aabf6b44-4a65-4007-b4fc-0b43f87424c5",
   "metadata": {},
   "outputs": [
    {
     "name": "stdout",
     "output_type": "stream",
     "text": [
      "0\n",
      "1\n",
      "2\n",
      "3\n",
      "4\n",
      "5\n",
      "6\n",
      "7\n",
      "8\n",
      "9\n"
     ]
    }
   ],
   "source": [
    "for i in range(0,10) :\n",
    "    print(i)"
   ]
  },
  {
   "cell_type": "code",
   "execution_count": 64,
   "id": "29290e0b-647b-4fd7-8434-8faa3501fd0d",
   "metadata": {},
   "outputs": [
    {
     "name": "stdout",
     "output_type": "stream",
     "text": [
      "5\n",
      "6\n",
      "7\n",
      "8\n",
      "9\n",
      "10\n",
      "11\n",
      "12\n",
      "13\n",
      "14\n",
      "15\n"
     ]
    }
   ],
   "source": [
    "for w in range(5,16) :\n",
    "    print(w)"
   ]
  },
  {
   "cell_type": "code",
   "execution_count": 65,
   "id": "b4081a41-bc2e-419e-a181-72bc5f67d3d4",
   "metadata": {},
   "outputs": [
    {
     "name": "stdout",
     "output_type": "stream",
     "text": [
      "2\n",
      "4\n",
      "6\n",
      "8\n",
      "10\n",
      "12\n",
      "14\n",
      "16\n",
      "18\n",
      "20\n"
     ]
    }
   ],
   "source": [
    "for c in range(2,21) :\n",
    "    if c%2==0:\n",
    "        print(c)"
   ]
  },
  {
   "cell_type": "markdown",
   "id": "d0ffd8cc-859a-4342-8a51-45b5df6c7721",
   "metadata": {},
   "source": [
    "### Part 2: Dictionaries and Loops\n",
    "\n",
    "a) Create a dictionary where the keys are student names and the values are their favorite colors. Write a program that prints out each student's name and their favorite color.\n",
    "\n",
    "Example Output:\n",
    "```\n",
    "Alex's favorite color is Blue.\n",
    "Jordan's favorite color is Green.\n",
    "Taylor's favorite color is Red.\n",
    "```\n",
    "\n",
    "b) Given a dictionary with product names as keys and their quantities as values, write a program that doubles the quantity of each product and prints out the updated quantities.\n",
    "\n",
    "Example Input: `{\"apple\": 5, \"banana\": 3, \"cherries\": 10}`\n",
    "\n",
    "Example Output:\n",
    "```\n",
    "apple now has 10.\n",
    "banana now has 6.\n",
    "cherries now have 20.\n",
    "```"
   ]
  },
  {
   "cell_type": "code",
   "execution_count": 66,
   "id": "96f376a3-0086-4bac-b97e-4281072ba945",
   "metadata": {},
   "outputs": [],
   "source": [
    "Dict = {\"Blue\": \"Alex\" ,\n",
    "        \"Green\": \"Jordan\" ,\n",
    "        \"Red\": \"Taylor\"}\n",
    "        "
   ]
  },
  {
   "cell_type": "code",
   "execution_count": 67,
   "id": "6a1e27a3-1405-4281-9795-709af0e2c9cc",
   "metadata": {},
   "outputs": [
    {
     "name": "stdout",
     "output_type": "stream",
     "text": [
      "Alex's favorite color is Blue\n",
      "Jordan's favorite color is Green\n",
      "Taylor's favorite color is Red\n"
     ]
    }
   ],
   "source": [
    "for color in Dict :\n",
    "    name = Dict[color]\n",
    "    print(name + \"'s favorite color is\", color)"
   ]
  },
  {
   "cell_type": "code",
   "execution_count": 68,
   "id": "f5a0a606-c1cf-4c2a-b54f-529591e59ca9",
   "metadata": {},
   "outputs": [],
   "source": [
    "fruit = {\"apple\": 5, \"banana\": 3, \"cherries\": 10}"
   ]
  },
  {
   "cell_type": "code",
   "execution_count": 69,
   "id": "67f9ca41-4c3a-4e65-b977-2744dd7e14b1",
   "metadata": {
    "tags": []
   },
   "outputs": [
    {
     "name": "stdout",
     "output_type": "stream",
     "text": [
      "apple now has 10\n",
      "banana now has 6\n",
      "cherries now has 20\n"
     ]
    }
   ],
   "source": [
    "for number in fruit :\n",
    "    two = fruit[number]*2\n",
    "    print(number, 'now has', two)"
   ]
  },
  {
   "cell_type": "markdown",
   "id": "4527c87d-5768-465f-bf35-2d6810f7e072",
   "metadata": {},
   "source": [
    "### Part 3: Storing Results of a For Loop in a New List and List Comprehensions\n",
    "#### 1. not using list comprehension\n",
    "\n",
    "a) Write a program that takes a list of numbers and creates a new list with each number multiplied by 2.\n",
    "\n",
    "Example Input: `[1, 3, 5, 7]`\n",
    "\n",
    "Example Output (new list): `[2, 6, 10, 14]`\n",
    "\n",
    "b) Given a list of words, create a new list that contains the first letter of each word.\n",
    "\n",
    "Example Input: `[\"Apple\", \"Banana\", \"Cherry\", \"Date\"]`\n",
    "\n",
    "Example Output (new list): `[\"A\", \"B\", \"C\", \"D\"]`"
   ]
  },
  {
   "cell_type": "code",
   "execution_count": 70,
   "id": "814edf73-b148-42d7-ae20-b419e0207b90",
   "metadata": {
    "tags": []
   },
   "outputs": [],
   "source": [
    "nom = [1, 3, 5, 7]"
   ]
  },
  {
   "cell_type": "code",
   "execution_count": 71,
   "id": "7b648707-a5f4-4e8b-884a-d4b45779a266",
   "metadata": {
    "tags": []
   },
   "outputs": [
    {
     "name": "stdout",
     "output_type": "stream",
     "text": [
      "[2, 6, 10, 14]\n"
     ]
    }
   ],
   "source": [
    "lst_nom = []\n",
    "for two_nom in nom:\n",
    "    twice = two_nom*2\n",
    "    lst_nom.append(twice)\n",
    "    \n",
    "print(lst_nom)"
   ]
  },
  {
   "cell_type": "code",
   "execution_count": 72,
   "id": "cf1c5f5c-acf1-4ffe-acb7-4d657308b7a6",
   "metadata": {
    "tags": []
   },
   "outputs": [],
   "source": [
    "lst_fruit = [\"Apple\", \"Banana\", \"Cherry\", \"Date\"]"
   ]
  },
  {
   "cell_type": "code",
   "execution_count": 73,
   "id": "78b32d85-6e41-4326-a2fa-336b485dc492",
   "metadata": {
    "tags": []
   },
   "outputs": [
    {
     "name": "stdout",
     "output_type": "stream",
     "text": [
      "['A', 'B', 'C', 'D']\n"
     ]
    }
   ],
   "source": [
    "first_lst = []\n",
    "for letter_lst in lst_fruit :\n",
    "    first_letter = letter_lst[-0]\n",
    "    first_lst.append(first_letter)\n",
    "\n",
    "print(first_lst)"
   ]
  },
  {
   "cell_type": "markdown",
   "id": "0f1742c3-c70f-4159-8a13-7a0a5cbbd22f",
   "metadata": {},
   "source": [
    "#### 2. using list comprehension\n",
    "c) Use a list comprehension to compute and save the square roots of a list of numbers from 1 to 10.\n",
    "\n",
    "Input list: `[1, 2, 3, 4, 5, 6, 7, 8, 9, 10]`\n",
    "\n",
    "Expected Output: \n",
    "```\n",
    "[1.0,\n",
    " 1.4142135623730951,\n",
    " 1.7320508075688772,\n",
    " 2.0,\n",
    " 2.23606797749979,\n",
    " 2.449489742783178,\n",
    " 2.6457513110645907,\n",
    " 2.8284271247461903,\n",
    " 3.0,\n",
    " 3.1622776601683795]\n",
    "```\n",
    "\n",
    "d) Given a list of words, use a list comprehension to create a new list containing the last letter of each word.\n",
    "\n",
    "Example Input: `[\"apple\", \"pear\", \"kiwi\", \"grape\"]`\n",
    "\n",
    "Expected Output: `[\"e\", \"r\", \"i\", \"e\"]`\n",
    "\n",
    "---"
   ]
  },
  {
   "cell_type": "code",
   "execution_count": 74,
   "id": "1f01a791-e20c-4ade-ad6a-f7fa472e19e7",
   "metadata": {
    "tags": []
   },
   "outputs": [],
   "source": [
    "list_comp_num = [1, 2, 3, 4, 5, 6, 7, 8, 9, 10]"
   ]
  },
  {
   "cell_type": "code",
   "execution_count": 75,
   "id": "dbe5e6d4-a963-46cf-b400-44f905430b4a",
   "metadata": {
    "tags": []
   },
   "outputs": [
    {
     "name": "stdout",
     "output_type": "stream",
     "text": [
      "1.0\n",
      "1.4142135623730951\n",
      "1.7320508075688772\n",
      "2.0\n",
      "2.23606797749979\n",
      "2.449489742783178\n",
      "2.6457513110645907\n",
      "2.8284271247461903\n",
      "3.0\n",
      "3.1622776601683795\n"
     ]
    }
   ],
   "source": [
    "for i in list_comp_num :\n",
    "    root = i**0.5\n",
    "    print(root)"
   ]
  },
  {
   "cell_type": "code",
   "execution_count": 76,
   "id": "ba32e993-1fbc-432d-9abe-70a44595fd35",
   "metadata": {
    "tags": []
   },
   "outputs": [],
   "source": [
    "lst_words = [\"apple\", \"pear\", \"kiwi\", \"grape\"]"
   ]
  },
  {
   "cell_type": "code",
   "execution_count": 77,
   "id": "c98bcd90-cc74-4528-a1f2-08827a76a661",
   "metadata": {
    "tags": []
   },
   "outputs": [
    {
     "name": "stdout",
     "output_type": "stream",
     "text": [
      "['e', 'r', 'i', 'e']\n"
     ]
    }
   ],
   "source": [
    "last_lst = []\n",
    "for lst_w in lst_words :\n",
    "    letter = lst_w[-1::]\n",
    "    last_lst.append(letter)\n",
    "\n",
    "print(last_lst)"
   ]
  },
  {
   "cell_type": "markdown",
   "id": "99eafa08-f092-4f48-8d5b-dc4447833bf4",
   "metadata": {},
   "source": [
    "### Part 4: nested loops\n",
    "\n",
    "a) Write some code to \"flatten\" the following list-of-lists-of-lists:\n",
    "```\n",
    "deep_list = [[[1, 2, 3, 4], [5, 6, 7, 8]],\n",
    "            [[9, 10, 11, 12], [13, 14, 15, 16]],\n",
    "            [[17, 18, 19, 20], [21, 22, 23, 42]]]\n",
    "```\n",
    "(that is, make into a simple list of `ints`)\n",
    "\n",
    "b) Write code that, given a list of strings like this:\n",
    "```\n",
    "myStrLst = [\"able\", \"was\", \"I\", \"ere\", \"I\", \"saw\", \"elba\"]\n",
    "```\n",
    "reverses ***both*** the order of the strings in the list ***and*** the order of the letters in each string.  \n",
    "\n",
    "**Warning** This one is tough, and requires you put together a few of the skills we've learned, so don't get frustrated if it takes you a lot of trial and error! That's what coding is often like!"
   ]
  },
  {
   "cell_type": "code",
   "execution_count": 78,
   "id": "44dab17a-85d1-4dac-901b-fb18608b3454",
   "metadata": {
    "tags": []
   },
   "outputs": [],
   "source": [
    "deep_list = [[[1, 2, 3, 4], [5, 6, 7, 8]],\n",
    "            [[9, 10, 11, 12], [13, 14, 15, 16]],\n",
    "            [[17, 18, 19, 20], [21, 22, 23, 42]]]"
   ]
  },
  {
   "cell_type": "code",
   "execution_count": 79,
   "id": "ef2914fc-d863-41d2-b371-1125c39f9b95",
   "metadata": {
    "tags": []
   },
   "outputs": [
    {
     "name": "stdout",
     "output_type": "stream",
     "text": [
      "[[[1, 2, 3, 4], [5, 6, 7, 8]], [[9, 10, 11, 12], [13, 14, 15, 16]], [[17, 18, 19, 20], [21, 22, 23, 42]]]\n"
     ]
    }
   ],
   "source": [
    "print(deep_list)"
   ]
  },
  {
   "cell_type": "code",
   "execution_count": 80,
   "id": "9bad8523-3d7c-438d-ab98-16f7e66f617b",
   "metadata": {
    "tags": []
   },
   "outputs": [
    {
     "name": "stdout",
     "output_type": "stream",
     "text": [
      "[1, 2, 3, 4, 5, 6, 7, 8, 9, 10, 11, 12, 13, 14, 15, 16, 17, 18, 19, 20, 21, 22, 23, 42]\n"
     ]
    }
   ],
   "source": [
    "flat = []\n",
    "for i in range(3) :\n",
    "    for j in range(2) :\n",
    "        for k in range(4) :\n",
    "            not_flat = deep_list[i][j][k]\n",
    "            flat.append(not_flat)\n",
    "        \n",
    "print(flat)"
   ]
  },
  {
   "cell_type": "code",
   "execution_count": 81,
   "id": "dd4e97b8-770c-4344-8540-b7f1ce4f49f4",
   "metadata": {
    "tags": []
   },
   "outputs": [],
   "source": [
    "myStrLst = [\"able\", \"was\", \"I\", \"ere\", \"I\", \"saw\", \"elba\"]"
   ]
  },
  {
   "cell_type": "code",
   "execution_count": 82,
   "id": "51366eec-9369-4763-9d95-45a1c178cacb",
   "metadata": {},
   "outputs": [
    {
     "name": "stdout",
     "output_type": "stream",
     "text": [
      "['able', 'was', 'I', 'ere', 'I', 'saw', 'elba']\n"
     ]
    }
   ],
   "source": [
    "new_lst = []\n",
    "new_lst_two = []\n",
    "\n",
    "for mystr in myStrLst : \n",
    "    myrev = mystr[::-1]\n",
    "    new_lst.append(myrev)\n",
    "    \n",
    "last_index = len(new_lst) - 1\n",
    "\n",
    "for i in range(last_index,-1,-1):\n",
    "    new_lst_two.append(new_lst[i])\n",
    "    \n",
    "print(new_lst_two)"
   ]
  }
 ],
 "metadata": {
  "kernelspec": {
   "display_name": "Python 3 (ipykernel)",
   "language": "python",
   "name": "python3"
  },
  "language_info": {
   "codemirror_mode": {
    "name": "ipython",
    "version": 3
   },
   "file_extension": ".py",
   "mimetype": "text/x-python",
   "name": "python",
   "nbconvert_exporter": "python",
   "pygments_lexer": "ipython3",
   "version": "3.11.4"
  }
 },
 "nbformat": 4,
 "nbformat_minor": 5
}
