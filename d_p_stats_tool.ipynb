{
 "cells": [
  {
   "cell_type": "code",
   "execution_count": null,
   "id": "580af404-7af8-49c2-beae-f988082fd4d9",
   "metadata": {
    "tags": []
   },
   "outputs": [
    {
     "name": "stdin",
     "output_type": "stream",
     "text": [
      "Give me numbers, type DONE when finished. 1\n",
      "Give me numbers, type DONE when finished. 2\n",
      "Give me numbers, type DONE when finished. 3\n",
      "Give me numbers, type DONE when finished. done\n"
     ]
    },
    {
     "name": "stdout",
     "output_type": "stream",
     "text": [
      "These are the numbers you put in: [1.0, 2.0, 3.0]\n",
      "1. Mean\n",
      "2. Variance\n",
      "3. Standard Deviation\n",
      "4. Standard Error\n",
      "5. Z-score of a new observation\n",
      "6. Summary of the statistics\n",
      "7. QUIT\n"
     ]
    },
    {
     "name": "stdin",
     "output_type": "stream",
     "text": [
      "Above are stat computational options you can pick from. \n",
      "PLEASE SELECT THE NUBMER OF THE OPERATION YOU WANT 5\n",
      "What new observation would you like to look at? 5\n"
     ]
    },
    {
     "name": "stdout",
     "output_type": "stream",
     "text": [
      "\n",
      "        Z-Score: 3.6742346141747673\n",
      "        \n",
      "1. Mean\n",
      "2. Variance\n",
      "3. Standard Deviation\n",
      "4. Standard Error\n",
      "5. Z-score of a new observation\n",
      "6. Summary of the statistics\n",
      "7. QUIT\n"
     ]
    }
   ],
   "source": [
    "import d_p_stats_module\n",
    "\n",
    "numbers = []\n",
    "\n",
    "while True :\n",
    "    num_input = input(\"Give me numbers, type DONE when finished.\")\n",
    "    \n",
    "    if num_input.lower() == \"done\" : \n",
    "        print(f\"These are the numbers you put in: {numbers}\")\n",
    "        break\n",
    "    \n",
    "    try :\n",
    "        num = float(num_input) \n",
    "        numbers.append(num)\n",
    "        \n",
    "    except ValueError:\n",
    "        print(\"ERROR. Invaild Input. Please type in numbers or type 'done'\")\n",
    "        \n",
    "\n",
    "\n",
    "while True:\n",
    "    \n",
    "    print(\"1. Mean\")\n",
    "    print(\"2. Variance\")\n",
    "    print(\"3. Standard Deviation\")\n",
    "    print(\"4. Standard Error\")\n",
    "    print(\"5. Z-score of a new observation\")\n",
    "    print(\"6. Summary of the statistics\")\n",
    "    print(\"7. QUIT\")\n",
    "\n",
    "\n",
    "    operation = input('''Above are stat computational options you can pick from. \n",
    "PLEASE SELECT THE NUBMER OF THE OPERATION YOU WANT''')\n",
    "    \n",
    "    if operation == \"5\" or operation == \"6\":\n",
    "        while True:\n",
    "            try:\n",
    "                obs = float(input(\"What new observation would you like to look at?\"))\n",
    "                break\n",
    "            except ValueError:\n",
    "                print(\"System error, play type a number you would like to observe\")\n",
    "    \n",
    "    elif operation == \"7\" :\n",
    "        print(\"End of stats calculator\")\n",
    "        break\n",
    "    \n",
    "    \n",
    "    if operation == \"1\":\n",
    "        print(f'''\n",
    "        Mean: {d_p_stats_module.mean(numbers)}\n",
    "        ''')\n",
    "\n",
    "    elif operation == \"2\":\n",
    "        print(f'''\n",
    "        Variance: {d_p_stats_module.variance(numbers)}\n",
    "        ''')\n",
    "\n",
    "    elif operation == \"3\":\n",
    "        print(f'''\n",
    "        Standard Deviation: {d_p_stats_module.st(numbers)}\n",
    "        ''')\n",
    "\n",
    "    elif operation == \"4\":\n",
    "        print(f'''\n",
    "        Standard Error: {d_p_stats_module.se(numbers)}\n",
    "        ''')   \n",
    "\n",
    "    elif operation == \"5\":\n",
    "        print(f'''\n",
    "        Z-Score: {d_p_stats_module.z(numbers, obs)}\n",
    "        ''')\n",
    "\n",
    "    elif operation == \"6\":\n",
    "        print(f'''Summary:\n",
    "        Mean: {d_p_stats_module.mean(numbers)} \n",
    "        Variance: {d_p_stats_module.variance(numbers)}\n",
    "        Standard Deviation: {d_p_stats_module.st(numbers)}\n",
    "        Standard Error: {d_p_stats_module.se(numbers)}\n",
    "        Z-Score: {d_p_stats_module.z(numbers, obs)}\n",
    "        ''')\n",
    "\n",
    "    else :\n",
    "        print('''\n",
    "        ERROR. Please follow directions\n",
    "        ''')"
   ]
  },
  {
   "cell_type": "markdown",
   "id": "fc070933-9a41-47bd-b5d6-eb2e651a49dd",
   "metadata": {},
   "source": [
    "---"
   ]
  },
  {
   "cell_type": "code",
   "execution_count": null,
   "id": "09c24626-930f-47f6-8e08-5be8dc2fb513",
   "metadata": {},
   "outputs": [],
   "source": [
    "numbers = []\n",
    "\n",
    "num = input(\"Give me numbers, type 'done' when finished.\")\n",
    "\n"
   ]
  },
  {
   "cell_type": "markdown",
   "id": "374c7eb5-be7d-43eb-ac79-a528a970056e",
   "metadata": {},
   "source": [
    "---"
   ]
  },
  {
   "cell_type": "code",
   "execution_count": null,
   "id": "730c2449-c568-4eb2-95ee-a973dd7a4f39",
   "metadata": {},
   "outputs": [],
   "source": [
    "numbers = []\n",
    "\n",
    "while True :\n",
    "    num_input = input(\"Give me numbers, type DONE when finished.\")\n",
    "    \n",
    "    if num_input.lower() == \"done\" : \n",
    "        print(f\"These are the numbers you put in: {numbers}\")\n",
    "        break\n",
    "    \n",
    "    try :\n",
    "        num = float(num_input) \n",
    "        numbers.append(num)\n",
    "        \n",
    "    except ValueError:\n",
    "        print(\"ERROR. Invaild Input. Please type in numbers or type 'done'\")"
   ]
  },
  {
   "cell_type": "code",
   "execution_count": null,
   "id": "a390e572-f30c-4e3b-9a23-49a4e9f2abd9",
   "metadata": {
    "tags": []
   },
   "outputs": [],
   "source": [
    "import dp_stats_module\n",
    "\n",
    "while True:\n",
    "    \n",
    "    print(\"1. Mean\")\n",
    "    print(\"2. Variance\")\n",
    "    print(\"3. Standard Deviation\")\n",
    "    print(\"4. Standard Error\")\n",
    "    print(\"5. Z-score of a new observation\")\n",
    "    print(\"6. Summary of the statistics\")\n",
    "    print(\"7. QUIT\")\n",
    "\n",
    "\n",
    "    operation = input(\"Above are stat computational options you can pick from. PLEASE SELECT THE NUBMER OF THE OPERATION YOU WANT\")\n",
    "    \n",
    "    if operation == \"5\" or operation == \"6\":\n",
    "        obs = float(input(\"What new observation would you like to look at?\"))\n",
    "    \n",
    "    elif operation == \"7\" :\n",
    "        print(\"End of stats calculator\")\n",
    "        break\n",
    "    \n",
    "    \n",
    "    if operation == \"1\":\n",
    "        print(f'''\n",
    "        Mean: {dp_stats_module.mean(numbers)}''')\n",
    "\n",
    "    elif operation == \"2\":\n",
    "        print(f'''\n",
    "        Variance: {dp_stats_module.variance(numbers)}''')\n",
    "\n",
    "    elif operation == \"3\":\n",
    "        print(f'''\n",
    "        Standard Deviation: {dp_stats_module.st(numbers)}''')\n",
    "\n",
    "    elif operation == \"4\":\n",
    "        print(f'''\n",
    "        Standard Error: {dp_stats_module.se(numbers)}''')   \n",
    "\n",
    "    elif operation == \"5\":\n",
    "        print(f'''\n",
    "        Z-Score: {dp_stats_module.z(numbers, obs)}''')\n",
    "\n",
    "    elif operation == \"6\":\n",
    "        print(f'''Summary:\n",
    "        Mean: {dp_stats_module.mean(numbers)} \n",
    "        Variance: {dp_stats_module.variance(numbers)}\n",
    "        Standard Deviation: {dp_stats_module.st(numbers)}\n",
    "        Standard Error: {dp_stats_module.se(numbers)}\n",
    "        Z-Score: {dp_stats_module.z(numbers, obs)}''')\n",
    "\n",
    "    else :\n",
    "        print('''\n",
    "        ERROR. Please follow directions''')"
   ]
  },
  {
   "cell_type": "markdown",
   "id": "3e435b60-3203-43b2-8684-8f3ca2cf4cad",
   "metadata": {},
   "source": [
    "---"
   ]
  },
  {
   "cell_type": "markdown",
   "id": "0b95fe2a-4bff-45e6-883e-01c3b72d9d93",
   "metadata": {},
   "source": [
    "---"
   ]
  },
  {
   "cell_type": "markdown",
   "id": "d62e6b7b-1d83-47a1-b17e-d7e6b6592337",
   "metadata": {},
   "source": [
    "---"
   ]
  },
  {
   "cell_type": "markdown",
   "id": "93009d74-68a1-469a-8855-86dc966f7e97",
   "metadata": {},
   "source": [
    "---"
   ]
  },
  {
   "cell_type": "code",
   "execution_count": null,
   "id": "67940a87-dac5-49f2-99a5-b34099de919d",
   "metadata": {
    "tags": []
   },
   "outputs": [],
   "source": [
    "if operation == \"5\" or operation == \"6\":\n",
    "    obs = float(input(\"What new observation would you like to look at?\"))\n",
    "    \n",
    "elif operation == \"7\" :\n",
    "    print(\"End of stats calculator\")\n",
    "    break"
   ]
  },
  {
   "cell_type": "code",
   "execution_count": null,
   "id": "85f82e7e-caab-406a-8ca1-05c75a40028e",
   "metadata": {
    "tags": []
   },
   "outputs": [],
   "source": [
    "import dp_stats_module"
   ]
  },
  {
   "cell_type": "code",
   "execution_count": null,
   "id": "432313aa-57a0-44a5-a350-05be07b0345c",
   "metadata": {},
   "outputs": [],
   "source": [
    "\n",
    "if operation == \"1\":\n",
    "    print(f'''Mean: \n",
    "    {dp_stats_module.mean(numbers)}''')\n",
    "    \n",
    "elif operation == \"2\":\n",
    "    print(f\"Variance: {dp_stats_module.variance(numbers)}\")\n",
    "    \n",
    "elif operation == \"3\":\n",
    "    print(f\"Standard Deviation: {dp_stats_module.st(numbers)}\")\n",
    "    \n",
    "elif operation == \"4\":\n",
    "    print(f\"Standard Error: {dp_stats_module.se(numbers)}\")   \n",
    "\n",
    "elif operation == \"5\":\n",
    "    print(f\"Z-Score: {dp_stats_module.z(numbers, obs)}\")\n",
    "    \n",
    "elif operation == \"6\":\n",
    "    print(f'''Summary:\n",
    "    Mean: {dp_stats_module.mean(numbers)} \n",
    "    Variance: {dp_stats_module.variance(numbers)}\n",
    "    Standard Deviation: {dp_stats_module.st(numbers)}\n",
    "    Standard Error: {dp_stats_module.se(numbers)}\n",
    "    Z-Score: {dp_stats_module.z(numbers, obs)}''')\n",
    "    \n",
    "else :\n",
    "    print(\"ERROR. Please follow directions\")"
   ]
  },
  {
   "cell_type": "code",
   "execution_count": null,
   "id": "aa4eb80f-9643-480d-a1f8-fcc90f1851c1",
   "metadata": {},
   "outputs": [],
   "source": []
  }
 ],
 "metadata": {
  "kernelspec": {
   "display_name": "Python 3 (ipykernel)",
   "language": "python",
   "name": "python3"
  },
  "language_info": {
   "codemirror_mode": {
    "name": "ipython",
    "version": 3
   },
   "file_extension": ".py",
   "mimetype": "text/x-python",
   "name": "python",
   "nbconvert_exporter": "python",
   "pygments_lexer": "ipython3",
   "version": "3.11.4"
  }
 },
 "nbformat": 4,
 "nbformat_minor": 5
}
