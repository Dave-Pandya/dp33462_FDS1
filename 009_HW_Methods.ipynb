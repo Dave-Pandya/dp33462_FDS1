{
 "cells": [
  {
   "cell_type": "markdown",
   "id": "219b36b0-47d9-45a4-bac9-398021d80527",
   "metadata": {},
   "source": [
    "### **Homework Assignment: Slicing & Data Container Methods**\n",
    "\n",
    "---\n",
    "\n",
    "**Objective:** Understand and apply slicing techniques to strings, lists, and tuples. Familiarize yourself with the main methods of strings, lists, tuples, and dictionaries.\n",
    "\n",
    "---"
   ]
  },
  {
   "cell_type": "markdown",
   "id": "4d0b0fc3-2ed5-4dac-962b-bc6e2659c74a",
   "metadata": {},
   "source": [
    "#### **Part A: Slicing**\n",
    "\n",
    "1. **Strings:**\n",
    "    - Given the string `s = \"ProgrammingIsFun\"`, extract and print the substring \"Program\".\n",
    "    - Extract and print the substring \"Fun\".\n",
    "    - Extract and print every 3rd character of the string."
   ]
  },
  {
   "cell_type": "code",
   "execution_count": 30,
   "id": "66ed580c-b108-4dd6-ad54-fcde0f5c63a9",
   "metadata": {
    "tags": []
   },
   "outputs": [],
   "source": [
    "s = \"ProgrammingIsFun\""
   ]
  },
  {
   "cell_type": "code",
   "execution_count": 31,
   "id": "a14ffd17-3133-466e-95af-2bdd0751df3d",
   "metadata": {
    "tags": []
   },
   "outputs": [
    {
     "name": "stdout",
     "output_type": "stream",
     "text": [
      "Program\n"
     ]
    }
   ],
   "source": [
    "P = s[0:7]\n",
    "print(P)"
   ]
  },
  {
   "cell_type": "code",
   "execution_count": 32,
   "id": "0a94b38d-42be-4b06-931a-098763993757",
   "metadata": {
    "tags": []
   },
   "outputs": [
    {
     "name": "stdout",
     "output_type": "stream",
     "text": [
      "Fun\n"
     ]
    }
   ],
   "source": [
    "F = s[13:16]\n",
    "print(F)"
   ]
  },
  {
   "cell_type": "code",
   "execution_count": 33,
   "id": "1eb44b77-d5ec-445c-8e3f-4b8ac5299b34",
   "metadata": {
    "tags": []
   },
   "outputs": [
    {
     "name": "stdout",
     "output_type": "stream",
     "text": [
      "Pgmnsn\n"
     ]
    }
   ],
   "source": [
    "three = s[0::3]\n",
    "print(three)"
   ]
  },
  {
   "cell_type": "markdown",
   "id": "8367333f-778f-4602-8f45-6f6201a8bdf3",
   "metadata": {},
   "source": [
    "2. **Lists:**\n",
    "    - Given the list `lst = [10, 20, 30, 40, 50, 60, 70, 80]`:\n",
    "        - Extract and print the first 3 elements.\n",
    "        - Extract and print the last 2 elements.\n",
    "        - Extract and print the elements from index 3 to 6 (inclusive).\n",
    "        - Extract and print every 2nd element from the list.\n",
    "        - Extract and print every 2nd element *starting from the end of the list*."
   ]
  },
  {
   "cell_type": "code",
   "execution_count": 34,
   "id": "5f507181-d63f-4516-92e6-09f6305f8f2f",
   "metadata": {
    "tags": []
   },
   "outputs": [],
   "source": [
    "lst = [10, 20, 30, 40, 50, 60, 70, 80]"
   ]
  },
  {
   "cell_type": "code",
   "execution_count": 35,
   "id": "5b46785e-f56b-4385-a5b1-25f07efd4a59",
   "metadata": {
    "tags": []
   },
   "outputs": [
    {
     "name": "stdout",
     "output_type": "stream",
     "text": [
      "[10, 20, 30]\n"
     ]
    }
   ],
   "source": [
    "first = lst[0:3]\n",
    "print(first)"
   ]
  },
  {
   "cell_type": "code",
   "execution_count": 36,
   "id": "8c9ff22c-dbe6-431a-9c9e-d6a464a07f56",
   "metadata": {
    "tags": []
   },
   "outputs": [
    {
     "name": "stdout",
     "output_type": "stream",
     "text": [
      "[70, 80]\n"
     ]
    }
   ],
   "source": [
    "last = lst[-2:]\n",
    "print(last)"
   ]
  },
  {
   "cell_type": "code",
   "execution_count": 37,
   "id": "edc94b6e-8827-4011-8098-cbf95210542b",
   "metadata": {
    "tags": []
   },
   "outputs": [
    {
     "name": "stdout",
     "output_type": "stream",
     "text": [
      "[40, 50, 60, 70]\n"
     ]
    }
   ],
   "source": [
    "middle = lst[3:7]\n",
    "print(middle)"
   ]
  },
  {
   "cell_type": "code",
   "execution_count": 38,
   "id": "ba5d3488-aa9e-4259-ade7-c617ec8ea9b4",
   "metadata": {
    "tags": []
   },
   "outputs": [
    {
     "name": "stdout",
     "output_type": "stream",
     "text": [
      "[10, 30, 50, 70]\n"
     ]
    }
   ],
   "source": [
    "second = lst[0::2]\n",
    "print(second)"
   ]
  },
  {
   "cell_type": "code",
   "execution_count": 39,
   "id": "3efb46f0-4c30-44c9-a351-095297d14374",
   "metadata": {
    "tags": []
   },
   "outputs": [
    {
     "name": "stdout",
     "output_type": "stream",
     "text": [
      "[80, 60, 40, 20]\n"
     ]
    }
   ],
   "source": [
    "secend = lst[::-2]\n",
    "print(secend)"
   ]
  },
  {
   "cell_type": "markdown",
   "id": "d28b6054-f4b2-4eda-87b3-5ab0baf92c57",
   "metadata": {},
   "source": [
    "3. **Tuples:**\n",
    "    - Given the tuple `tup = (5, 10, 15, 20, 25, 30, 35, 40)`:\n",
    "        - Extract and print the second element.\n",
    "        - Extract and print the last 3 elements.\n",
    "        - Extract and print the elements from index 2 to 5 (exclusive).\n"
   ]
  },
  {
   "cell_type": "code",
   "execution_count": 40,
   "id": "cc29dfa5-4dd8-4829-80d0-1b482460b8d6",
   "metadata": {
    "tags": []
   },
   "outputs": [],
   "source": [
    "tup = (5, 10, 15, 20, 25, 30, 35, 40)"
   ]
  },
  {
   "cell_type": "code",
   "execution_count": 41,
   "id": "66a4d499-c9e8-404e-9b83-3d03c6740932",
   "metadata": {
    "tags": []
   },
   "outputs": [
    {
     "name": "stdout",
     "output_type": "stream",
     "text": [
      "10\n"
     ]
    }
   ],
   "source": [
    "sect = tup[1]\n",
    "print(sect)"
   ]
  },
  {
   "cell_type": "code",
   "execution_count": 42,
   "id": "be9da63b-e32b-4e84-9e37-4953909c0fae",
   "metadata": {
    "tags": []
   },
   "outputs": [
    {
     "name": "stdout",
     "output_type": "stream",
     "text": [
      "(30, 35, 40)\n"
     ]
    }
   ],
   "source": [
    "lastthreet = tup[5:]\n",
    "print(lastthreet)"
   ]
  },
  {
   "cell_type": "code",
   "execution_count": 43,
   "id": "ece921fd-fd38-492d-bea8-b391bc32c8ad",
   "metadata": {
    "tags": []
   },
   "outputs": [
    {
     "name": "stdout",
     "output_type": "stream",
     "text": [
      "(15, 20, 25, 30)\n"
     ]
    }
   ],
   "source": [
    "middlet = tup[2:6]\n",
    "print(middlet)"
   ]
  },
  {
   "cell_type": "markdown",
   "id": "2fe7c024-98cc-40ce-a8a6-f6f9168ee8fa",
   "metadata": {},
   "source": [
    "---"
   ]
  },
  {
   "cell_type": "markdown",
   "id": "d1883d2d-168e-43b1-923c-092705fc5a21",
   "metadata": {},
   "source": [
    "#### **Part B: Methods of Data Structures**"
   ]
  },
  {
   "cell_type": "markdown",
   "id": "8f1b7e8f-b8ec-4f48-95b5-db70bcd6e1b7",
   "metadata": {},
   "source": [
    "1. **Strings:**\n",
    "    - Find and print the index of the first occurrence of the substring \"ming\" in `s`.\n",
    "    - Convert the string `s` to lowercase and print the result.\n",
    "    - Replace the substring \"Fun\" in `s` with \"Amazing\" and print the result."
   ]
  },
  {
   "cell_type": "code",
   "execution_count": 44,
   "id": "3c98f749-7d5d-4395-918e-87a7eb9c685a",
   "metadata": {
    "tags": []
   },
   "outputs": [
    {
     "name": "stdout",
     "output_type": "stream",
     "text": [
      "7\n"
     ]
    }
   ],
   "source": [
    "ming = s.index('ming')\n",
    "print(ming)"
   ]
  },
  {
   "cell_type": "code",
   "execution_count": 45,
   "id": "8ed7c418-9b6f-4f7f-a8a2-de6efa56a737",
   "metadata": {
    "tags": []
   },
   "outputs": [
    {
     "name": "stdout",
     "output_type": "stream",
     "text": [
      "programmingisfun\n"
     ]
    }
   ],
   "source": [
    "print(s.lower())"
   ]
  },
  {
   "cell_type": "code",
   "execution_count": 46,
   "id": "4d8df64f-0e47-429b-a8f8-9c7bd9b81aec",
   "metadata": {
    "tags": []
   },
   "outputs": [
    {
     "data": {
      "text/plain": [
       "'ProgrammingIsAmazing'"
      ]
     },
     "execution_count": 46,
     "metadata": {},
     "output_type": "execute_result"
    }
   ],
   "source": [
    "a = \"Amazing\"\n",
    "s.replace(\"Fun\", a)"
   ]
  },
  {
   "cell_type": "markdown",
   "id": "d7409b5c-75d4-4934-8f09-b19b23f405c5",
   "metadata": {},
   "source": [
    "2. **Lists:**\n",
    "    - Add the elements `90` and `100` to the end of `lst` and print the updated list.\n",
    "    - Remove the second element from `lst` and print the updated list.\n",
    "    - Reverse the order of elements in `lst` and print the updated list.\n",
    "    - Find and print the index of element `50` in `lst`."
   ]
  },
  {
   "cell_type": "code",
   "execution_count": 47,
   "id": "9975efcc-0bcf-438a-bff3-92c13e9ce17d",
   "metadata": {
    "tags": []
   },
   "outputs": [
    {
     "name": "stdout",
     "output_type": "stream",
     "text": [
      "[10, 20, 30, 40, 50, 60, 70, 80, 90, 100]\n"
     ]
    }
   ],
   "source": [
    "newlst = [90, 100]\n",
    "lst.extend(newlst)\n",
    "print(lst)"
   ]
  },
  {
   "cell_type": "code",
   "execution_count": 48,
   "id": "31df7f52-e8b2-4c21-958d-3985d318e798",
   "metadata": {
    "tags": []
   },
   "outputs": [
    {
     "name": "stdout",
     "output_type": "stream",
     "text": [
      "[10, 30, 40, 50, 60, 70, 80, 90, 100]\n"
     ]
    }
   ],
   "source": [
    "lst.remove(20)\n",
    "print(lst)"
   ]
  },
  {
   "cell_type": "code",
   "execution_count": 51,
   "id": "e181e1b3-c2fb-4d81-9c4b-a84e6221256f",
   "metadata": {
    "tags": []
   },
   "outputs": [
    {
     "name": "stdout",
     "output_type": "stream",
     "text": [
      "[100, 90, 80, 70, 60, 50, 40, 30, 10]\n"
     ]
    }
   ],
   "source": [
    "lst.reverse()\n",
    "print(lst)"
   ]
  },
  {
   "cell_type": "code",
   "execution_count": 53,
   "id": "a07d2b09-5263-4dee-a0e8-7626429ab27d",
   "metadata": {
    "tags": []
   },
   "outputs": [
    {
     "name": "stdout",
     "output_type": "stream",
     "text": [
      "5\n"
     ]
    }
   ],
   "source": [
    "index_of_fidy = lst.index(50)\n",
    "print(index_of_fidy)\n",
    "#this number 5 is the index when the list was reversed. It would be 3 if it was not reversed. "
   ]
  },
  {
   "cell_type": "markdown",
   "id": "deaa75b3-742b-4383-9ba7-0e403345f760",
   "metadata": {},
   "source": [
    "3. **Tuples:**\n",
    "    - Count and print the number of occurrences of `20` in `tup`.\n",
    "    - Convert `tup` into a list, add the number `45` at its end, then convert it back to a tuple. Print the new tuple."
   ]
  },
  {
   "cell_type": "code",
   "execution_count": 54,
   "id": "f23678fb-9bc9-4150-9e36-8aaccf3925c1",
   "metadata": {
    "tags": []
   },
   "outputs": [
    {
     "name": "stdout",
     "output_type": "stream",
     "text": [
      "1\n"
     ]
    }
   ],
   "source": [
    "count_of_twenty = tup.count(20)\n",
    "print(count_of_twenty)"
   ]
  },
  {
   "cell_type": "code",
   "execution_count": 55,
   "id": "09e93c05-2473-42ba-b938-6d201cc0df8f",
   "metadata": {
    "tags": []
   },
   "outputs": [
    {
     "name": "stdout",
     "output_type": "stream",
     "text": [
      "[5, 10, 15, 20, 25, 30, 35, 40]\n"
     ]
    }
   ],
   "source": [
    "tup_list = list(tup)\n",
    "print(tup_list)"
   ]
  },
  {
   "cell_type": "code",
   "execution_count": 56,
   "id": "53c64f81-21c1-4850-a138-99a120df9ca0",
   "metadata": {
    "tags": []
   },
   "outputs": [
    {
     "name": "stdout",
     "output_type": "stream",
     "text": [
      "[5, 10, 15, 20, 25, 30, 35, 40, 45]\n"
     ]
    }
   ],
   "source": [
    "k = [45]\n",
    "tup_list.extend(k)\n",
    "print(tup_list)"
   ]
  },
  {
   "cell_type": "code",
   "execution_count": 57,
   "id": "46438ce0-4a0b-4053-a59d-b82bb2360d3b",
   "metadata": {
    "tags": []
   },
   "outputs": [
    {
     "name": "stdout",
     "output_type": "stream",
     "text": [
      "(5, 10, 15, 20, 25, 30, 35, 40, 45)\n"
     ]
    }
   ],
   "source": [
    "new_tup = tuple(tup_list)\n",
    "print(new_tup)"
   ]
  },
  {
   "cell_type": "markdown",
   "id": "6e66fa3b-9475-4010-9f28-9a2c8f2026fc",
   "metadata": {},
   "source": [
    "4. **Dictionaries:**\n",
    "    - Given the dictionary `S_Doo_ = {\"Scooby\": 4, \"Shaggy\": 19, \"Velma\": 18, \"Daphne\": 20}`\n",
    "        - Add a new key-value pair: `\"Phred\": 21` and print the updated dictionary.\n",
    "        - Retrieve and print the age of \"Velma\".\n",
    "        - Remove \"Scooby\" and his age from the dictionary and print the updated dictionary.\n",
    "        - Print all the keys in the dictionary.\n",
    "        - Print all the values in the dictionary."
   ]
  },
  {
   "cell_type": "code",
   "execution_count": 58,
   "id": "613c5118-4ae7-487e-b00d-8e4d6a3a1020",
   "metadata": {},
   "outputs": [],
   "source": [
    "S_Doo_ = {\"Scooby\": 4, \"Shaggy\": 19, \"Velma\": 18, \"Daphne\": 20}"
   ]
  },
  {
   "cell_type": "code",
   "execution_count": 59,
   "id": "ff330487-eab3-4b02-8acc-d6ced854380c",
   "metadata": {
    "tags": []
   },
   "outputs": [
    {
     "name": "stdout",
     "output_type": "stream",
     "text": [
      "{'Scooby': 4, 'Shaggy': 19, 'Velma': 18, 'Daphne': 20, 'Phred': 21}\n"
     ]
    }
   ],
   "source": [
    "S_Doo_[\"Phred\"] = 21\n",
    "print(S_Doo_)"
   ]
  },
  {
   "cell_type": "code",
   "execution_count": 60,
   "id": "92972443-3361-4951-a20f-e676e9fe580f",
   "metadata": {
    "tags": []
   },
   "outputs": [
    {
     "name": "stdout",
     "output_type": "stream",
     "text": [
      "dict_values([4, 19, 18, 20, 21])\n"
     ]
    }
   ],
   "source": [
    "age = S_Doo_.values()\n",
    "print(age)"
   ]
  },
  {
   "cell_type": "code",
   "execution_count": 61,
   "id": "7203c4e0-d740-4301-a85c-e01e066093ff",
   "metadata": {
    "tags": []
   },
   "outputs": [
    {
     "name": "stdout",
     "output_type": "stream",
     "text": [
      "[4, 19, 18, 20, 21]\n"
     ]
    }
   ],
   "source": [
    "list_age = list(age)\n",
    "print(list_age)"
   ]
  },
  {
   "cell_type": "code",
   "execution_count": 62,
   "id": "39e5b810-5691-4248-9753-26ac5b416385",
   "metadata": {
    "tags": []
   },
   "outputs": [
    {
     "name": "stdout",
     "output_type": "stream",
     "text": [
      "18\n"
     ]
    }
   ],
   "source": [
    "Velma_age = list_age[2]\n",
    "print(Velma_age)\n",
    "#here is Velma's age"
   ]
  },
  {
   "cell_type": "code",
   "execution_count": 63,
   "id": "d95690c1-b387-4e15-a632-1ffa24a15484",
   "metadata": {
    "tags": []
   },
   "outputs": [
    {
     "name": "stdout",
     "output_type": "stream",
     "text": [
      "{'Shaggy': 19, 'Velma': 18, 'Daphne': 20, 'Phred': 21}\n"
     ]
    }
   ],
   "source": [
    "del S_Doo_[\"Scooby\"]\n",
    "print(S_Doo_)"
   ]
  },
  {
   "cell_type": "code",
   "execution_count": 64,
   "id": "07f17ad3-76bd-44d5-a031-6c8c8980a1a6",
   "metadata": {
    "tags": []
   },
   "outputs": [
    {
     "name": "stdout",
     "output_type": "stream",
     "text": [
      "dict_keys(['Shaggy', 'Velma', 'Daphne', 'Phred'])\n"
     ]
    }
   ],
   "source": [
    "print(S_Doo_.keys())"
   ]
  },
  {
   "cell_type": "code",
   "execution_count": 65,
   "id": "43f735d6-55a2-4196-a6b0-f51c080b3dda",
   "metadata": {
    "tags": []
   },
   "outputs": [
    {
     "name": "stdout",
     "output_type": "stream",
     "text": [
      "dict_values([19, 18, 20, 21])\n"
     ]
    }
   ],
   "source": [
    "print(S_Doo_.values())"
   ]
  },
  {
   "cell_type": "markdown",
   "id": "05a374a9-5995-4671-bdcf-0dbb85ae9276",
   "metadata": {},
   "source": [
    "---\n",
    "  \n",
    "#### Bonus: \n",
    "Make and print a `list` of the keys in the Scooby dictionary using the output of `.keys()`."
   ]
  },
  {
   "cell_type": "code",
   "execution_count": 66,
   "id": "078a3bf7-1bbc-48b8-a5d1-c47ab1279cd8",
   "metadata": {
    "tags": []
   },
   "outputs": [
    {
     "name": "stdout",
     "output_type": "stream",
     "text": [
      "dict_keys(['Shaggy', 'Velma', 'Daphne', 'Phred'])\n"
     ]
    }
   ],
   "source": [
    "keys = S_Doo_.keys()\n",
    "print(keys)"
   ]
  },
  {
   "cell_type": "code",
   "execution_count": 67,
   "id": "8aebc570-8bab-4b27-ab9b-4b052214e666",
   "metadata": {
    "tags": []
   },
   "outputs": [
    {
     "name": "stdout",
     "output_type": "stream",
     "text": [
      "['Shaggy', 'Velma', 'Daphne', 'Phred']\n"
     ]
    }
   ],
   "source": [
    "list_of_keys_ = list(keys)\n",
    "print(list_of_keys_)"
   ]
  }
 ],
 "metadata": {
  "kernelspec": {
   "display_name": "Python 3 (ipykernel)",
   "language": "python",
   "name": "python3"
  },
  "language_info": {
   "codemirror_mode": {
    "name": "ipython",
    "version": 3
   },
   "file_extension": ".py",
   "mimetype": "text/x-python",
   "name": "python",
   "nbconvert_exporter": "python",
   "pygments_lexer": "ipython3",
   "version": "3.11.4"
  }
 },
 "nbformat": 4,
 "nbformat_minor": 5
}
