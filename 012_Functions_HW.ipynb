{
 "cells": [
  {
   "cell_type": "markdown",
   "id": "2b16cded-8409-4c5a-ac4f-b030a869d6d7",
   "metadata": {},
   "source": [
    "## Python Programming Homework: Functions, Modules, and Namespaces\n",
    "\n",
    "### Objective:\n",
    "The purpose of this homework is to reinforce your understanding of functions, namespaces, and Python modules. By the end of the assignment, you should be more familiar with organizing and structuring your Python code using these concepts.\n",
    "\n",
    "---\n",
    "\n",
    "### Overview:\n",
    "\n",
    "1. **Function Design for Unit Conversions**: Write functions for basic conversions between imperial and metric units.\n",
    "2. **Module Creation**: Organize your conversion functions into a custom Python module.\n",
    "3. **Namespace Exploration**: Demonstrate an understanding of local and global scopes and their implications.\n",
    "\n",
    "---"
   ]
  },
  {
   "cell_type": "markdown",
   "id": "60608113-99bb-4d38-b83c-a7ac6864365f",
   "metadata": {
    "tags": []
   },
   "source": [
    "### Detailed Instructions:\n",
    "\n",
    "1. #### Function Design for Unit Conversions:\n",
    "    - Design and implement functions for the following conversions:\n",
    "        - Miles to Kilometers and vice versa.\n",
    "        - Fahrenheit to Celsius and vice versa.\n",
    "        - Kilograms to Pounds and vice versa.\n",
    "    - Each conversion should have its dedicated function. For instance, `miles_to_km()`, `km_to_miles()`, etc.\n",
    "    - Each function should `return` its answer (not just print it)."
   ]
  },
  {
   "cell_type": "code",
   "execution_count": 1,
   "id": "a2316ee5-4318-413d-8049-79371b3814cb",
   "metadata": {
    "tags": []
   },
   "outputs": [],
   "source": [
    "def mile_km(mile) :\n",
    "    return mile * 1.609\n",
    "\n",
    "def km_mile(km) :\n",
    "    return km / 1.609"
   ]
  },
  {
   "cell_type": "code",
   "execution_count": 2,
   "id": "7f6b41cf-c00f-453c-8649-cb9e3f0de395",
   "metadata": {
    "tags": []
   },
   "outputs": [
    {
     "data": {
      "text/plain": [
       "6.436"
      ]
     },
     "execution_count": 2,
     "metadata": {},
     "output_type": "execute_result"
    }
   ],
   "source": [
    "mile_km(4)"
   ]
  },
  {
   "cell_type": "code",
   "execution_count": 3,
   "id": "f14f296b-010a-45df-abce-8cb9a3677b0b",
   "metadata": {
    "tags": []
   },
   "outputs": [
    {
     "data": {
      "text/plain": [
       "2.4860161591050343"
      ]
     },
     "execution_count": 3,
     "metadata": {},
     "output_type": "execute_result"
    }
   ],
   "source": [
    "km_mile(4)"
   ]
  },
  {
   "cell_type": "code",
   "execution_count": 4,
   "id": "26e65756-6b61-4cf7-b737-4efad3ddf271",
   "metadata": {
    "tags": []
   },
   "outputs": [],
   "source": [
    "def fah_cel(fah) :\n",
    "    return (5/9)*(fah - 32)\n",
    "\n",
    "def cel_fah(cel) :\n",
    "    return (cel * (9/5)) + 32"
   ]
  },
  {
   "cell_type": "code",
   "execution_count": 5,
   "id": "6aa4992b-79f7-47e7-a170-9a23479b7922",
   "metadata": {
    "tags": []
   },
   "outputs": [
    {
     "data": {
      "text/plain": [
       "23.333333333333336"
      ]
     },
     "execution_count": 5,
     "metadata": {},
     "output_type": "execute_result"
    }
   ],
   "source": [
    "fah_cel(74)"
   ]
  },
  {
   "cell_type": "code",
   "execution_count": 6,
   "id": "71b28389-f977-4d00-9365-1db548dec1dd",
   "metadata": {
    "tags": []
   },
   "outputs": [
    {
     "data": {
      "text/plain": [
       "109.4"
      ]
     },
     "execution_count": 6,
     "metadata": {},
     "output_type": "execute_result"
    }
   ],
   "source": [
    "cel_fah(43)"
   ]
  },
  {
   "cell_type": "code",
   "execution_count": 7,
   "id": "b66edf36-eb37-4ad9-9ca0-30498cc17a3e",
   "metadata": {
    "tags": []
   },
   "outputs": [],
   "source": [
    "def kilo_pound(kilo) :\n",
    "    return kilo * 2.205\n",
    "\n",
    "def pound_kilo(pound) :\n",
    "    return pound / 2.205"
   ]
  },
  {
   "cell_type": "code",
   "execution_count": 8,
   "id": "1fe19174-5fe9-4e35-aea7-af9d4c8616b7",
   "metadata": {
    "tags": []
   },
   "outputs": [
    {
     "data": {
      "text/plain": [
       "493.92"
      ]
     },
     "execution_count": 8,
     "metadata": {},
     "output_type": "execute_result"
    }
   ],
   "source": [
    "kilo_pound(224)"
   ]
  },
  {
   "cell_type": "code",
   "execution_count": 9,
   "id": "696fe09e-d72c-40ca-8376-96a4569327ad",
   "metadata": {
    "tags": []
   },
   "outputs": [
    {
     "data": {
      "text/plain": [
       "102.0408163265306"
      ]
     },
     "execution_count": 9,
     "metadata": {},
     "output_type": "execute_result"
    }
   ],
   "source": [
    "pound_kilo(225)"
   ]
  },
  {
   "cell_type": "markdown",
   "id": "a232efda-c55a-4dbe-af19-08988e98afea",
   "metadata": {},
   "source": [
    "2. #### Module Creation:\n",
    "    - Organize all the conversion functions you've created into a Python module named `unit_conversions.py`.\n",
    "    - In a separate script, import your module and demonstrate the use of each function."
   ]
  },
  {
   "cell_type": "code",
   "execution_count": 10,
   "id": "e27c5c49-f398-4af6-82c2-6704ded95189",
   "metadata": {
    "tags": []
   },
   "outputs": [],
   "source": [
    "import unit_conversion"
   ]
  },
  {
   "cell_type": "code",
   "execution_count": 11,
   "id": "2a647e48-1d03-4880-a31b-55b857c0d9c5",
   "metadata": {
    "tags": []
   },
   "outputs": [
    {
     "data": {
      "text/plain": [
       "24.134999999999998"
      ]
     },
     "execution_count": 11,
     "metadata": {},
     "output_type": "execute_result"
    }
   ],
   "source": [
    "unit_conversion.mile_km(15)"
   ]
  },
  {
   "cell_type": "code",
   "execution_count": 12,
   "id": "e41eec8f-24a5-497c-a704-b77cbfbd196a",
   "metadata": {
    "tags": []
   },
   "outputs": [
    {
     "data": {
      "text/plain": [
       "27.967681789931635"
      ]
     },
     "execution_count": 12,
     "metadata": {},
     "output_type": "execute_result"
    }
   ],
   "source": [
    "unit_conversion.km_mile(45)"
   ]
  },
  {
   "cell_type": "code",
   "execution_count": 13,
   "id": "a56333ad-8bf4-4732-81ad-5db10c79243e",
   "metadata": {
    "tags": []
   },
   "outputs": [
    {
     "data": {
      "text/plain": [
       "19.444444444444446"
      ]
     },
     "execution_count": 13,
     "metadata": {},
     "output_type": "execute_result"
    }
   ],
   "source": [
    "unit_conversion.fah_cel(67)"
   ]
  },
  {
   "cell_type": "code",
   "execution_count": 14,
   "id": "831e38ec-45a9-455a-b2e7-c49c407f86d6",
   "metadata": {
    "tags": []
   },
   "outputs": [
    {
     "data": {
      "text/plain": [
       "53.6"
      ]
     },
     "execution_count": 14,
     "metadata": {},
     "output_type": "execute_result"
    }
   ],
   "source": [
    "unit_conversion.cel_fah(12)"
   ]
  },
  {
   "cell_type": "code",
   "execution_count": 15,
   "id": "f45a8bd5-4721-4a18-9778-bf3b46c206df",
   "metadata": {
    "tags": []
   },
   "outputs": [
    {
     "data": {
      "text/plain": [
       "77.175"
      ]
     },
     "execution_count": 15,
     "metadata": {},
     "output_type": "execute_result"
    }
   ],
   "source": [
    "unit_conversion.kilo_pound(35)"
   ]
  },
  {
   "cell_type": "code",
   "execution_count": 16,
   "id": "9cc09bae-5220-4286-9d75-bcee2e0ce446",
   "metadata": {
    "tags": []
   },
   "outputs": [
    {
     "data": {
      "text/plain": [
       "292.5170068027211"
      ]
     },
     "execution_count": 16,
     "metadata": {},
     "output_type": "execute_result"
    }
   ],
   "source": [
    "unit_conversion.pound_kilo(645)"
   ]
  },
  {
   "cell_type": "markdown",
   "id": "d730174e-d315-4214-82cb-7f4b01d76604",
   "metadata": {},
   "source": [
    "3. #### Namespaces\n",
    "   - Make a module with filename \"mylen.py\"\n",
    "       * add a function named `len` to the module\n",
    "       * the function should return the number 42 no matter what\n",
    "   - Create a list `mylist` (or whatever) with some elements in it (they can be numbers or anything)\n",
    "   - ***Before importing you module***, try a `len(mylist)`\n",
    "   - Import mylen.py (`import mylen`)\n",
    "       * verify that `mylen.len()` works as expected\n",
    "   - Now do a `from mylen import len`\n",
    "   - Finally, repeat the `len(mylist)`"
   ]
  },
  {
   "cell_type": "code",
   "execution_count": 17,
   "id": "7c157c36-3e99-4a12-8ce9-a7e9c33561cf",
   "metadata": {
    "tags": []
   },
   "outputs": [],
   "source": [
    "mylist = [4, 8, 3, 234, 4563, 56]"
   ]
  },
  {
   "cell_type": "code",
   "execution_count": 18,
   "id": "7405b5be-fa40-46df-95fd-7db87307df33",
   "metadata": {
    "tags": []
   },
   "outputs": [
    {
     "data": {
      "text/plain": [
       "6"
      ]
     },
     "execution_count": 18,
     "metadata": {},
     "output_type": "execute_result"
    }
   ],
   "source": [
    "len(mylist)"
   ]
  },
  {
   "cell_type": "code",
   "execution_count": 19,
   "id": "f955f7bd-9b5f-4af5-b417-9f245ac9cd4c",
   "metadata": {
    "tags": []
   },
   "outputs": [],
   "source": [
    "import mylen"
   ]
  },
  {
   "cell_type": "code",
   "execution_count": 20,
   "id": "b05c3068-a57f-4715-b752-4a6a23c7bb31",
   "metadata": {
    "tags": []
   },
   "outputs": [
    {
     "data": {
      "text/plain": [
       "42"
      ]
     },
     "execution_count": 20,
     "metadata": {},
     "output_type": "execute_result"
    }
   ],
   "source": [
    "mylen.len()"
   ]
  },
  {
   "cell_type": "code",
   "execution_count": 21,
   "id": "0c73d96a-f202-428f-9a8e-dd25e4aaf834",
   "metadata": {
    "tags": []
   },
   "outputs": [],
   "source": [
    "#yay it works. 42 is returned"
   ]
  },
  {
   "cell_type": "code",
   "execution_count": 22,
   "id": "b2bb2c04-f983-4283-a2a6-aea08bb0dc41",
   "metadata": {
    "tags": []
   },
   "outputs": [],
   "source": [
    "from mylen import len"
   ]
  },
  {
   "cell_type": "code",
   "execution_count": 23,
   "id": "a456cb18-f0f5-4149-94fa-e1f3a5443216",
   "metadata": {
    "tags": []
   },
   "outputs": [
    {
     "ename": "TypeError",
     "evalue": "len() takes 0 positional arguments but 1 was given",
     "output_type": "error",
     "traceback": [
      "\u001b[0;31m---------------------------------------------------------------------------\u001b[0m",
      "\u001b[0;31mTypeError\u001b[0m                                 Traceback (most recent call last)",
      "Cell \u001b[0;32mIn[23], line 1\u001b[0m\n\u001b[0;32m----> 1\u001b[0m \u001b[38;5;28mlen\u001b[39m(mylist)\n",
      "\u001b[0;31mTypeError\u001b[0m: len() takes 0 positional arguments but 1 was given"
     ]
    }
   ],
   "source": [
    "len(mylist)"
   ]
  },
  {
   "cell_type": "code",
   "execution_count": 25,
   "id": "6867e717-2b3d-496b-b27c-f463c63fb118",
   "metadata": {},
   "outputs": [],
   "source": [
    "# am i supposed to get an error?"
   ]
  },
  {
   "cell_type": "markdown",
   "id": "e71d5ef0-5ed9-4b71-8d0e-1c0b3f1ce58a",
   "metadata": {},
   "source": [
    "    In your own words, compare the outputs of the two `len(mylest)` calls. What happened? Why? What does this tell you about namespaces and the egalitarian nature of Python?"
   ]
  },
  {
   "cell_type": "markdown",
   "id": "be89e709-3f9b-466f-9a9e-0fc29d55147c",
   "metadata": {},
   "source": [
    "The first call to len(mylist) gave the expected output of the length of the list being 6. This tells us that we have 6 values in our list because we are using the len function.\n",
    "\n",
    "When we import the len function from mylen module I get an error. This is because len is already a function in python and when we replace it with another function of the same name we get an error. \n",
    "\n",
    "This tell us that we cannot and should not name any and all functions after functions already incorporated in the python system. "
   ]
  },
  {
   "cell_type": "code",
   "execution_count": null,
   "id": "83fbb9d8-5e14-4351-a1f6-2a803c756399",
   "metadata": {},
   "outputs": [],
   "source": []
  }
 ],
 "metadata": {
  "kernelspec": {
   "display_name": "Python 3 (ipykernel)",
   "language": "python",
   "name": "python3"
  },
  "language_info": {
   "codemirror_mode": {
    "name": "ipython",
    "version": 3
   },
   "file_extension": ".py",
   "mimetype": "text/x-python",
   "name": "python",
   "nbconvert_exporter": "python",
   "pygments_lexer": "ipython3",
   "version": "3.11.4"
  }
 },
 "nbformat": 4,
 "nbformat_minor": 5
}
